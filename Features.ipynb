{
 "cells": [
  {
   "cell_type": "code",
   "execution_count": 3,
   "metadata": {},
   "outputs": [],
   "source": [
    "import numpy as np\n",
    "test_data = np.load('data/test.npz')\n",
    "x_test, y_test, seq_len_test = test_data['X'], test_data['y'], test_data['seq_len']"
   ]
  },
  {
   "cell_type": "code",
   "execution_count": 4,
   "metadata": {},
   "outputs": [],
   "source": [
    "def flatten_sequence(inp, seq_len):\n",
    "    result = None\n",
    "    for i in range(inp.shape[0]):\n",
    "        if result is not None:\n",
    "            result = np.concatenate((result, inp[i, :, :int(seq_len[i])]), axis=1)\n",
    "        else:\n",
    "            result = inp[i, :, :int(seq_len[i])]\n",
    "    return result\n",
    "        "
   ]
  },
  {
   "cell_type": "code",
   "execution_count": 5,
   "metadata": {},
   "outputs": [],
   "source": [
    "from feature import feature_apply"
   ]
  },
  {
   "cell_type": "code",
   "execution_count": 6,
   "metadata": {},
   "outputs": [],
   "source": [
    "x_test = feature_apply(x_test, seq_len_test, x_test).astype('float32')"
   ]
  },
  {
   "cell_type": "code",
   "execution_count": 7,
   "metadata": {},
   "outputs": [
    {
     "data": {
      "text/plain": [
       "(534, 16, 700)"
      ]
     },
     "execution_count": 7,
     "metadata": {},
     "output_type": "execute_result"
    }
   ],
   "source": [
    "x_test.shape"
   ]
  },
  {
   "cell_type": "code",
   "execution_count": 8,
   "metadata": {},
   "outputs": [],
   "source": [
    "total_x = x_test.transpose((1, 0, 2))"
   ]
  },
  {
   "cell_type": "code",
   "execution_count": 9,
   "metadata": {},
   "outputs": [
    {
     "data": {
      "text/plain": [
       "(16, 534, 700)"
      ]
     },
     "execution_count": 9,
     "metadata": {},
     "output_type": "execute_result"
    }
   ],
   "source": [
    "total_x.shape"
   ]
  },
  {
   "cell_type": "code",
   "execution_count": 10,
   "metadata": {},
   "outputs": [],
   "source": [
    "total_x = flatten_sequence(x_test, seq_len_test)"
   ]
  },
  {
   "cell_type": "code",
   "execution_count": 11,
   "metadata": {},
   "outputs": [
    {
     "data": {
      "text/plain": [
       "(16, 111206)"
      ]
     },
     "execution_count": 11,
     "metadata": {},
     "output_type": "execute_result"
    }
   ],
   "source": [
    "total_x.shape"
   ]
  },
  {
   "cell_type": "code",
   "execution_count": 12,
   "metadata": {},
   "outputs": [],
   "source": [
    "total_x = total_x.transpose()"
   ]
  },
  {
   "cell_type": "code",
   "execution_count": 13,
   "metadata": {},
   "outputs": [
    {
     "data": {
      "text/plain": [
       "(534, 700)"
      ]
     },
     "execution_count": 13,
     "metadata": {},
     "output_type": "execute_result"
    }
   ],
   "source": [
    "y_test.shape"
   ]
  },
  {
   "cell_type": "code",
   "execution_count": 14,
   "metadata": {},
   "outputs": [],
   "source": [
    "total_y = y_test.reshape((-1))"
   ]
  },
  {
   "cell_type": "code",
   "execution_count": 15,
   "metadata": {},
   "outputs": [
    {
     "data": {
      "text/plain": [
       "array([0., 0., 7., ..., 0., 0., 0.], dtype=float32)"
      ]
     },
     "execution_count": 15,
     "metadata": {},
     "output_type": "execute_result"
    }
   ],
   "source": [
    "total_y"
   ]
  },
  {
   "cell_type": "code",
   "execution_count": 16,
   "metadata": {},
   "outputs": [],
   "source": [
    "from model_wrapper import map_q8_to_q3\n",
    "mapper = np.vectorize(map_q8_to_q3)\n",
    "total_y = mapper(y_test).reshape((534, 1, -1))\n",
    "resp = np.concatenate((total_y == 0, total_y == 1, total_y == 2), axis=1)"
   ]
  },
  {
   "cell_type": "code",
   "execution_count": 17,
   "metadata": {},
   "outputs": [
    {
     "data": {
      "text/plain": [
       "(3, 111206)"
      ]
     },
     "execution_count": 17,
     "metadata": {},
     "output_type": "execute_result"
    }
   ],
   "source": [
    "total_y = flatten_sequence(resp, seq_len_test)\n",
    "total_y.shape"
   ]
  },
  {
   "cell_type": "code",
   "execution_count": 18,
   "metadata": {},
   "outputs": [
    {
     "name": "stdout",
     "output_type": "stream",
     "text": [
      "(3, 111206)\n"
     ]
    }
   ],
   "source": [
    "print(total_y.shape)\n",
    "r_h = total_y[0, :]\n",
    "r_e = total_y[1, :]\n",
    "r_l = total_y[2, :]"
   ]
  },
  {
   "cell_type": "code",
   "execution_count": 19,
   "metadata": {},
   "outputs": [
    {
     "ename": "NameError",
     "evalue": "name 'result' is not defined",
     "output_type": "error",
     "traceback": [
      "\u001b[1;31m---------------------------------------------------------------------------\u001b[0m",
      "\u001b[1;31mNameError\u001b[0m                                 Traceback (most recent call last)",
      "\u001b[1;32m<ipython-input-19-e72ec47b7245>\u001b[0m in \u001b[0;36m<module>\u001b[1;34m\u001b[0m\n\u001b[1;32m----> 1\u001b[1;33m \u001b[0mresult\u001b[0m \u001b[1;33m=\u001b[0m \u001b[0mresult\u001b[0m\u001b[1;33m.\u001b[0m\u001b[0mtranspose\u001b[0m\u001b[1;33m(\u001b[0m\u001b[1;33m)\u001b[0m\u001b[1;33m\u001b[0m\u001b[1;33m\u001b[0m\u001b[0m\n\u001b[0m",
      "\u001b[1;31mNameError\u001b[0m: name 'result' is not defined"
     ]
    }
   ],
   "source": [
    "result = result.transpose()"
   ]
  },
  {
   "cell_type": "code",
   "execution_count": 46,
   "metadata": {},
   "outputs": [],
   "source": [
    "total_x = total_x.transpose()"
   ]
  },
  {
   "cell_type": "code",
   "execution_count": 47,
   "metadata": {},
   "outputs": [],
   "source": [
    "import matplotlib.pyplot as plt"
   ]
  },
  {
   "cell_type": "code",
   "execution_count": 48,
   "metadata": {},
   "outputs": [],
   "source": [
    "el = total_x[0, :]"
   ]
  },
  {
   "cell_type": "code",
   "execution_count": 49,
   "metadata": {},
   "outputs": [],
   "source": [
    "hyd = total_x[1, :]"
   ]
  },
  {
   "cell_type": "code",
   "execution_count": 50,
   "metadata": {},
   "outputs": [],
   "source": [
    "pol = total_x[2, :]"
   ]
  },
  {
   "cell_type": "code",
   "execution_count": 51,
   "metadata": {},
   "outputs": [],
   "source": [
    "vol = total_x[3, :]\n",
    "s0 = total_x[4, :]\n",
    "s1 = total_x[5, :]\n",
    "s2 = total_x[6, :]\n",
    "el_m = total_x[7, :]\n",
    "hyd_m = total_x[8, :]\n",
    "pol_m = total_x[9, :]\n",
    "vol_m = total_x[10, :]\n",
    "s0_m = total_x[11, :]\n",
    "s1_m = total_x[12, :]\n",
    "s2_m = total_x[13, :]"
   ]
  },
  {
   "cell_type": "code",
   "execution_count": 52,
   "metadata": {},
   "outputs": [
    {
     "data": {
      "text/plain": [
       "(111206,)"
      ]
     },
     "execution_count": 52,
     "metadata": {},
     "output_type": "execute_result"
    }
   ],
   "source": [
    "r_h.shape"
   ]
  },
  {
   "cell_type": "code",
   "execution_count": 53,
   "metadata": {},
   "outputs": [
    {
     "name": "stdout",
     "output_type": "stream",
     "text": [
      "[[1.         0.07717206]\n",
      " [0.07717206 1.        ]]\n",
      "[[ 1.        -0.1573195]\n",
      " [-0.1573195  1.       ]]\n",
      "[[1.         0.06087351]\n",
      " [0.06087351 1.        ]]\n"
     ]
    }
   ],
   "source": [
    "print(np.corrcoef(el, r_h))\n",
    "print(np.corrcoef(el, r_e))\n",
    "print(np.corrcoef(el, r_l))"
   ]
  },
  {
   "cell_type": "code",
   "execution_count": 54,
   "metadata": {},
   "outputs": [
    {
     "name": "stdout",
     "output_type": "stream",
     "text": [
      "[[1.         0.11214094]\n",
      " [0.11214094 1.        ]]\n",
      "[[1.         0.01021359]\n",
      " [0.01021359 1.        ]]\n",
      "[[ 1.         -0.12086232]\n",
      " [-0.12086232  1.        ]]\n"
     ]
    }
   ],
   "source": [
    "print(np.corrcoef(hyd, r_h))\n",
    "print(np.corrcoef(hyd, r_e))\n",
    "print(np.corrcoef(hyd, r_l))"
   ]
  },
  {
   "cell_type": "code",
   "execution_count": 55,
   "metadata": {},
   "outputs": [
    {
     "name": "stdout",
     "output_type": "stream",
     "text": [
      "[[ 1.         -0.03179397]\n",
      " [-0.03179397  1.        ]]\n",
      "[[ 1.         -0.11407019]\n",
      " [-0.11407019  1.        ]]\n",
      "[[1.         0.13170846]\n",
      " [0.13170846 1.        ]]\n"
     ]
    }
   ],
   "source": [
    "print(np.corrcoef(pol, r_h))\n",
    "print(np.corrcoef(pol, r_e))\n",
    "print(np.corrcoef(pol, r_l))"
   ]
  },
  {
   "cell_type": "code",
   "execution_count": 56,
   "metadata": {},
   "outputs": [
    {
     "name": "stdout",
     "output_type": "stream",
     "text": [
      "[[1.         0.04269166]\n",
      " [0.04269166 1.        ]]\n",
      "[[1.         0.06769901]\n",
      " [0.06769901 1.        ]]\n",
      "[[ 1.         -0.10194049]\n",
      " [-0.10194049  1.        ]]\n"
     ]
    }
   ],
   "source": [
    "print(np.corrcoef(vol, r_h))\n",
    "print(np.corrcoef(vol, r_e))\n",
    "print(np.corrcoef(vol, r_l))"
   ]
  },
  {
   "cell_type": "code",
   "execution_count": 57,
   "metadata": {},
   "outputs": [
    {
     "name": "stdout",
     "output_type": "stream",
     "text": [
      "[[1.         0.02564356]\n",
      " [0.02564356 1.        ]]\n",
      "[[ 1.         -0.02662686]\n",
      " [-0.02662686  1.        ]]\n",
      "[[ 1.         -0.00225301]\n",
      " [-0.00225301  1.        ]]\n"
     ]
    }
   ],
   "source": [
    "print(np.corrcoef(el_m, r_h))\n",
    "print(np.corrcoef(el_m, r_e))\n",
    "print(np.corrcoef(el_m, r_l))"
   ]
  },
  {
   "cell_type": "code",
   "execution_count": 58,
   "metadata": {},
   "outputs": [
    {
     "name": "stdout",
     "output_type": "stream",
     "text": [
      "[[ 1.         -0.05809332]\n",
      " [-0.05809332  1.        ]]\n",
      "[[ 1.         -0.05057774]\n",
      " [-0.05057774  1.        ]]\n",
      "[[1.         0.10230407]\n",
      " [0.10230407 1.        ]]\n"
     ]
    }
   ],
   "source": [
    "print(np.corrcoef(hyd_m, r_h))\n",
    "print(np.corrcoef(hyd_m, r_e))\n",
    "print(np.corrcoef(hyd_m, r_l))"
   ]
  },
  {
   "cell_type": "code",
   "execution_count": 59,
   "metadata": {},
   "outputs": [
    {
     "name": "stdout",
     "output_type": "stream",
     "text": [
      "[[ 1.        -0.0673135]\n",
      " [-0.0673135  1.       ]]\n",
      "[[ 1.       -0.045033]\n",
      " [-0.045033  1.      ]]\n",
      "[[1.         0.10664546]\n",
      " [0.10664546 1.        ]]\n"
     ]
    }
   ],
   "source": [
    "print(np.corrcoef(pol_m, r_h))\n",
    "print(np.corrcoef(pol_m, r_e))\n",
    "print(np.corrcoef(pol_m, r_l))"
   ]
  },
  {
   "cell_type": "code",
   "execution_count": 60,
   "metadata": {},
   "outputs": [
    {
     "name": "stdout",
     "output_type": "stream",
     "text": [
      "[[ 1.         -0.04632258]\n",
      " [-0.04632258  1.        ]]\n",
      "[[1.         0.03561576]\n",
      " [0.03561576 1.        ]]\n",
      "[[1.         0.01501094]\n",
      " [0.01501094 1.        ]]\n"
     ]
    }
   ],
   "source": [
    "print(np.corrcoef(vol_m, r_h))\n",
    "print(np.corrcoef(vol_m, r_e))\n",
    "print(np.corrcoef(vol_m, r_l))"
   ]
  },
  {
   "cell_type": "code",
   "execution_count": 61,
   "metadata": {},
   "outputs": [
    {
     "name": "stdout",
     "output_type": "stream",
     "text": [
      "[[1.         0.07732963]\n",
      " [0.07732963 1.        ]]\n",
      "[[1.         0.11604328]\n",
      " [0.11604328 1.        ]]\n",
      "[[ 1.         -0.17887986]\n",
      " [-0.17887986  1.        ]]\n"
     ]
    }
   ],
   "source": [
    "print(np.corrcoef(s0, r_h))\n",
    "print(np.corrcoef(s0, r_e))\n",
    "print(np.corrcoef(s0, r_l))"
   ]
  },
  {
   "cell_type": "code",
   "execution_count": 62,
   "metadata": {},
   "outputs": [
    {
     "name": "stdout",
     "output_type": "stream",
     "text": [
      "[[ 1.         -0.01012307]\n",
      " [-0.01012307  1.        ]]\n",
      "[[ 1.         -0.16220457]\n",
      " [-0.16220457  1.        ]]\n",
      "[[1.        0.1522708]\n",
      " [0.1522708 1.       ]]\n"
     ]
    }
   ],
   "source": [
    "print(np.corrcoef(s1, r_h))\n",
    "print(np.corrcoef(s1, r_e))\n",
    "print(np.corrcoef(s1, r_l))"
   ]
  },
  {
   "cell_type": "code",
   "execution_count": 63,
   "metadata": {},
   "outputs": [
    {
     "name": "stdout",
     "output_type": "stream",
     "text": [
      "[[1.         0.07028986]\n",
      " [0.07028986 1.        ]]\n",
      "[[ 1.         -0.15403702]\n",
      " [-0.15403702  1.        ]]\n",
      "[[1.         0.06486455]\n",
      " [0.06486455 1.        ]]\n"
     ]
    }
   ],
   "source": [
    "print(np.corrcoef(s2, r_h))\n",
    "print(np.corrcoef(s2, r_e))\n",
    "print(np.corrcoef(s2, r_l))"
   ]
  },
  {
   "cell_type": "code",
   "execution_count": 64,
   "metadata": {},
   "outputs": [
    {
     "name": "stdout",
     "output_type": "stream",
     "text": [
      "[[ 1.         -0.02218588]\n",
      " [-0.02218588  1.        ]]\n",
      "[[1.         0.07087989]\n",
      " [0.07087989 1.        ]]\n",
      "[[ 1.         -0.03998432]\n",
      " [-0.03998432  1.        ]]\n"
     ]
    }
   ],
   "source": [
    "print(np.corrcoef(s0_m, r_h))\n",
    "print(np.corrcoef(s0_m, r_e))\n",
    "print(np.corrcoef(s0_m, r_l))"
   ]
  },
  {
   "cell_type": "code",
   "execution_count": 65,
   "metadata": {},
   "outputs": [
    {
     "name": "stdout",
     "output_type": "stream",
     "text": [
      "[[1.         0.04412672]\n",
      " [0.04412672 1.        ]]\n",
      "[[ 1.         -0.05247372]\n",
      " [-0.05247372  1.        ]]\n",
      "[[1.         0.00195602]\n",
      " [0.00195602 1.        ]]\n"
     ]
    }
   ],
   "source": [
    "print(np.corrcoef(s1_m, r_h))\n",
    "print(np.corrcoef(s1_m, r_e))\n",
    "print(np.corrcoef(s1_m, r_l))"
   ]
  },
  {
   "cell_type": "code",
   "execution_count": 66,
   "metadata": {},
   "outputs": [
    {
     "name": "stdout",
     "output_type": "stream",
     "text": [
      "[[ 1.         -0.05451324]\n",
      " [-0.05451324  1.        ]]\n",
      "[[ 1.         -0.07011933]\n",
      " [-0.07011933  1.        ]]\n",
      "[[1.         0.11585911]\n",
      " [0.11585911 1.        ]]\n"
     ]
    }
   ],
   "source": [
    "print(np.corrcoef(s2_m, r_h))\n",
    "print(np.corrcoef(s2_m, r_e))\n",
    "print(np.corrcoef(s2_m, r_l))"
   ]
  },
  {
   "cell_type": "code",
   "execution_count": null,
   "metadata": {},
   "outputs": [],
   "source": []
  },
  {
   "cell_type": "code",
   "execution_count": null,
   "metadata": {},
   "outputs": [],
   "source": []
  },
  {
   "cell_type": "code",
   "execution_count": 67,
   "metadata": {},
   "outputs": [],
   "source": [
    "out = np.load('output.npy')"
   ]
  },
  {
   "cell_type": "code",
   "execution_count": 68,
   "metadata": {},
   "outputs": [],
   "source": [
    "out = out.transpose(0, 2, 1)"
   ]
  },
  {
   "cell_type": "code",
   "execution_count": 69,
   "metadata": {},
   "outputs": [],
   "source": [
    "predicted = flatten_sequence(out, seq_len_test)"
   ]
  },
  {
   "cell_type": "code",
   "execution_count": 70,
   "metadata": {},
   "outputs": [
    {
     "data": {
      "text/plain": [
       "(8, 111206)"
      ]
     },
     "execution_count": 70,
     "metadata": {},
     "output_type": "execute_result"
    }
   ],
   "source": [
    "predicted.shape"
   ]
  },
  {
   "cell_type": "code",
   "execution_count": 71,
   "metadata": {},
   "outputs": [
    {
     "data": {
      "text/plain": [
       "(111206,)"
      ]
     },
     "execution_count": 71,
     "metadata": {},
     "output_type": "execute_result"
    }
   ],
   "source": [
    "out_h = predicted[3:6, :].sum(axis=0)\n",
    "out_l = predicted[np.array([0, 6, 7]), :].sum(axis=0)\n",
    "out_e = predicted[1:3, :].sum(axis=0)\n",
    "out_h.shape"
   ]
  },
  {
   "cell_type": "code",
   "execution_count": 72,
   "metadata": {},
   "outputs": [
    {
     "name": "stdout",
     "output_type": "stream",
     "text": [
      "[[1.         0.06772464]\n",
      " [0.06772464 1.        ]]\n",
      "[[ 1.         -0.15148401]\n",
      " [-0.15148401  1.        ]]\n",
      "[[1.         0.07701881]\n",
      " [0.07701881 1.        ]]\n"
     ]
    }
   ],
   "source": [
    "print(np.corrcoef(el, out_h))\n",
    "print(np.corrcoef(el, out_e))\n",
    "print(np.corrcoef(el, out_l))"
   ]
  },
  {
   "cell_type": "code",
   "execution_count": 73,
   "metadata": {},
   "outputs": [
    {
     "name": "stdout",
     "output_type": "stream",
     "text": [
      "[[1.        0.1041413]\n",
      " [0.1041413 1.       ]]\n",
      "[[1.         0.03133362]\n",
      " [0.03133362 1.        ]]\n",
      "[[ 1.         -0.14158919]\n",
      " [-0.14158919  1.        ]]\n"
     ]
    }
   ],
   "source": [
    "print(np.corrcoef(hyd, out_h))\n",
    "print(np.corrcoef(hyd, out_e))\n",
    "print(np.corrcoef(hyd, out_l))"
   ]
  },
  {
   "cell_type": "code",
   "execution_count": 74,
   "metadata": {},
   "outputs": [
    {
     "name": "stdout",
     "output_type": "stream",
     "text": [
      "[[ 1.        -0.0436218]\n",
      " [-0.0436218  1.       ]]\n",
      "[[ 1.         -0.09570254]\n",
      " [-0.09570254  1.        ]]\n",
      "[[1.         0.14055717]\n",
      " [0.14055717 1.        ]]\n"
     ]
    }
   ],
   "source": [
    "print(np.corrcoef(pol, out_h))\n",
    "print(np.corrcoef(pol, out_e))\n",
    "print(np.corrcoef(pol, out_l))"
   ]
  },
  {
   "cell_type": "code",
   "execution_count": 75,
   "metadata": {},
   "outputs": [
    {
     "name": "stdout",
     "output_type": "stream",
     "text": [
      "[[1.         0.03516929]\n",
      " [0.03516929 1.        ]]\n",
      "[[1.         0.10055865]\n",
      " [0.10055865 1.        ]]\n",
      "[[ 1.         -0.13634551]\n",
      " [-0.13634551  1.        ]]\n"
     ]
    }
   ],
   "source": [
    "print(np.corrcoef(vol, out_h))\n",
    "print(np.corrcoef(vol, out_e))\n",
    "print(np.corrcoef(vol, out_l))"
   ]
  },
  {
   "cell_type": "code",
   "execution_count": 76,
   "metadata": {},
   "outputs": [
    {
     "name": "stdout",
     "output_type": "stream",
     "text": [
      "[[1.         0.02098608]\n",
      " [0.02098608 1.        ]]\n",
      "[[ 1.         -0.02659987]\n",
      " [-0.02659987  1.        ]]\n",
      "[[1.         0.00385225]\n",
      " [0.00385225 1.        ]]\n"
     ]
    }
   ],
   "source": [
    "print(np.corrcoef(el_m, out_h))\n",
    "print(np.corrcoef(el_m, out_e))\n",
    "print(np.corrcoef(el_m, out_l)) "
   ]
  },
  {
   "cell_type": "code",
   "execution_count": 77,
   "metadata": {},
   "outputs": [
    {
     "name": "stdout",
     "output_type": "stream",
     "text": [
      "[[ 1.         -0.06157974]\n",
      " [-0.06157974  1.        ]]\n",
      "[[ 1.        -0.0477841]\n",
      " [-0.0477841  1.       ]]\n",
      "[[1.         0.11250867]\n",
      " [0.11250867 1.        ]]\n"
     ]
    }
   ],
   "source": [
    "print(np.corrcoef(hyd_m, out_h))\n",
    "print(np.corrcoef(hyd_m, out_e))\n",
    "print(np.corrcoef(hyd_m, out_l))"
   ]
  },
  {
   "cell_type": "code",
   "execution_count": 78,
   "metadata": {},
   "outputs": [
    {
     "name": "stdout",
     "output_type": "stream",
     "text": [
      "[[ 1.         -0.07231094]\n",
      " [-0.07231094  1.        ]]\n",
      "[[ 1.         -0.05234212]\n",
      " [-0.05234212  1.        ]]\n",
      "[[1.         0.12840656]\n",
      " [0.12840656 1.        ]]\n"
     ]
    }
   ],
   "source": [
    "print(np.corrcoef(pol_m, out_h))\n",
    "print(np.corrcoef(pol_m, out_e))\n",
    "print(np.corrcoef(pol_m, out_l))"
   ]
  },
  {
   "cell_type": "code",
   "execution_count": 79,
   "metadata": {},
   "outputs": [
    {
     "name": "stdout",
     "output_type": "stream",
     "text": [
      "[[ 1.         -0.04709585]\n",
      " [-0.04709585  1.        ]]\n",
      "[[1.        0.0352069]\n",
      " [0.0352069 1.       ]]\n",
      "[[1.         0.01544823]\n",
      " [0.01544823 1.        ]]\n"
     ]
    }
   ],
   "source": [
    "print(np.corrcoef(vol_m, out_h))\n",
    "print(np.corrcoef(vol_m, out_e))\n",
    "print(np.corrcoef(vol_m, out_l))"
   ]
  },
  {
   "cell_type": "code",
   "execution_count": 80,
   "metadata": {},
   "outputs": [
    {
     "name": "stdout",
     "output_type": "stream",
     "text": [
      "[[1.         0.06897128]\n",
      " [0.06897128 1.        ]]\n",
      "[[1.         0.14626397]\n",
      " [0.14626397 1.        ]]\n",
      "[[ 1.         -0.21726578]\n",
      " [-0.21726578  1.        ]]\n"
     ]
    }
   ],
   "source": [
    "print(np.corrcoef(s0, out_h))\n",
    "print(np.corrcoef(s0, out_e))\n",
    "print(np.corrcoef(s0, out_l))"
   ]
  },
  {
   "cell_type": "code",
   "execution_count": 81,
   "metadata": {},
   "outputs": [
    {
     "name": "stdout",
     "output_type": "stream",
     "text": [
      "[[ 1.         -0.03135456]\n",
      " [-0.03135456  1.        ]]\n",
      "[[ 1.         -0.14577042]\n",
      " [-0.14577042  1.        ]]\n",
      "[[1.         0.17677288]\n",
      " [0.17677288 1.        ]]\n"
     ]
    }
   ],
   "source": [
    "print(np.corrcoef(s1, out_h))\n",
    "print(np.corrcoef(s1, out_e))\n",
    "print(np.corrcoef(s1, out_l))"
   ]
  },
  {
   "cell_type": "code",
   "execution_count": 82,
   "metadata": {},
   "outputs": [
    {
     "name": "stdout",
     "output_type": "stream",
     "text": [
      "[[1.         0.05807719]\n",
      " [0.05807719 1.        ]]\n",
      "[[ 1.         -0.13768601]\n",
      " [-0.13768601  1.        ]]\n",
      "[[1.        0.0737033]\n",
      " [0.0737033 1.       ]]\n"
     ]
    }
   ],
   "source": [
    "print(np.corrcoef(s2, out_h))\n",
    "print(np.corrcoef(s2, out_e))\n",
    "print(np.corrcoef(s2, out_l))"
   ]
  },
  {
   "cell_type": "code",
   "execution_count": 83,
   "metadata": {},
   "outputs": [
    {
     "name": "stdout",
     "output_type": "stream",
     "text": [
      "[[ 1.         -0.01800976]\n",
      " [-0.01800976  1.        ]]\n",
      "[[1.         0.07822605]\n",
      " [0.07822605 1.        ]]\n",
      "[[ 1.         -0.05781349]\n",
      " [-0.05781349  1.        ]]\n"
     ]
    }
   ],
   "source": [
    "print(np.corrcoef(s0_m, out_h))\n",
    "print(np.corrcoef(s0_m, out_e))\n",
    "print(np.corrcoef(s0_m, out_l))"
   ]
  },
  {
   "cell_type": "code",
   "execution_count": 84,
   "metadata": {},
   "outputs": [
    {
     "name": "stdout",
     "output_type": "stream",
     "text": [
      "[[1.         0.04417489]\n",
      " [0.04417489 1.        ]]\n",
      "[[ 1.         -0.05135951]\n",
      " [-0.05135951  1.        ]]\n",
      "[[1.         0.00355116]\n",
      " [0.00355116 1.        ]]\n"
     ]
    }
   ],
   "source": [
    "print(np.corrcoef(s1_m, out_h))\n",
    "print(np.corrcoef(s1_m, out_e))\n",
    "print(np.corrcoef(s1_m, out_l))"
   ]
  },
  {
   "cell_type": "code",
   "execution_count": 85,
   "metadata": {},
   "outputs": [
    {
     "name": "stdout",
     "output_type": "stream",
     "text": [
      "[[ 1.         -0.06731082]\n",
      " [-0.06731082  1.        ]]\n",
      "[[ 1.        -0.0954729]\n",
      " [-0.0954729  1.       ]]\n",
      "[[1.         0.16552571]\n",
      " [0.16552571 1.        ]]\n"
     ]
    }
   ],
   "source": [
    "print(np.corrcoef(s2_m, out_h))\n",
    "print(np.corrcoef(s2_m, out_e))\n",
    "print(np.corrcoef(s2_m, out_l))"
   ]
  },
  {
   "cell_type": "code",
   "execution_count": 86,
   "metadata": {},
   "outputs": [],
   "source": [
    "def aggregate_from_surrouding(inp, sur_size=8):\n",
    "    res = np.zeros(inp.shape)\n",
    "    for i in range(inp.shape[0]):\n",
    "        for j in range(inp.shape[1]):\n",
    "            beg = max(j - sur_size, 0)\n",
    "            end = min(j + sur_size, inp.shape[1] - 1)\n",
    "            res[i, j] = np.absolute(inp[i, beg:end]).mean()\n",
    "    return res\n",
    "        "
   ]
  },
  {
   "cell_type": "code",
   "execution_count": 87,
   "metadata": {},
   "outputs": [],
   "source": [
    "aggregated_x = aggregate_from_surrouding(total_x)"
   ]
  },
  {
   "cell_type": "code",
   "execution_count": 88,
   "metadata": {},
   "outputs": [
    {
     "data": {
      "text/plain": [
       "(16, 111206)"
      ]
     },
     "execution_count": 88,
     "metadata": {},
     "output_type": "execute_result"
    }
   ],
   "source": [
    "aggregated_x.shape"
   ]
  },
  {
   "cell_type": "code",
   "execution_count": 89,
   "metadata": {},
   "outputs": [],
   "source": [
    "a_el = aggregated_x[0, :]\n",
    "a_hyd = aggregated_x[1, :]\n",
    "a_pol = aggregated_x[2, :]\n",
    "a_vol = aggregated_x[3, :]\n",
    "a_s0 = aggregated_x[4, :]\n",
    "a_s1 = aggregated_x[5, :]\n",
    "a_s2 = aggregated_x[6, :]\n",
    "a_el_m = aggregated_x[7, :]\n",
    "a_hyd_m = aggregated_x[8, :]\n",
    "a_pol_m = aggregated_x[9, :]\n",
    "a_vol_m = aggregated_x[10, :]\n",
    "a_s0_m = aggregated_x[11, :]\n",
    "a_s1_m = aggregated_x[12, :]\n",
    "a_s2_m = aggregated_x[13, :]\n"
   ]
  },
  {
   "cell_type": "code",
   "execution_count": 90,
   "metadata": {},
   "outputs": [
    {
     "name": "stdout",
     "output_type": "stream",
     "text": [
      "[[1.         0.08165792]\n",
      " [0.08165792 1.        ]]\n",
      "[[ 1.         -0.06980212]\n",
      " [-0.06980212  1.        ]]\n",
      "[[ 1.         -0.01816799]\n",
      " [-0.01816799  1.        ]]\n"
     ]
    }
   ],
   "source": [
    "print(np.corrcoef(a_el, out_h))\n",
    "print(np.corrcoef(a_el, out_e))\n",
    "print(np.corrcoef(a_el, out_l))"
   ]
  },
  {
   "cell_type": "code",
   "execution_count": 91,
   "metadata": {},
   "outputs": [
    {
     "name": "stdout",
     "output_type": "stream",
     "text": [
      "[[1.        0.0714453]\n",
      " [0.0714453 1.       ]]\n",
      "[[ 1.         -0.01964247]\n",
      " [-0.01964247  1.        ]]\n",
      "[[ 1.         -0.05665918]\n",
      " [-0.05665918  1.        ]]\n"
     ]
    }
   ],
   "source": [
    "print(np.corrcoef(a_hyd, out_h))\n",
    "print(np.corrcoef(a_hyd, out_e))\n",
    "print(np.corrcoef(a_hyd, out_l))"
   ]
  },
  {
   "cell_type": "code",
   "execution_count": 92,
   "metadata": {},
   "outputs": [
    {
     "name": "stdout",
     "output_type": "stream",
     "text": [
      "[[ 1.         -0.06195029]\n",
      " [-0.06195029  1.        ]]\n",
      "[[1.         0.06577105]\n",
      " [0.06577105 1.        ]]\n",
      "[[1.         0.00117415]\n",
      " [0.00117415 1.        ]]\n"
     ]
    }
   ],
   "source": [
    "print(np.corrcoef(a_pol, out_h))\n",
    "print(np.corrcoef(a_pol, out_e))\n",
    "print(np.corrcoef(a_pol, out_l))"
   ]
  },
  {
   "cell_type": "code",
   "execution_count": 93,
   "metadata": {},
   "outputs": [
    {
     "name": "stdout",
     "output_type": "stream",
     "text": [
      "[[1.         0.02048338]\n",
      " [0.02048338 1.        ]]\n",
      "[[1.         0.03098565]\n",
      " [0.03098565 1.        ]]\n",
      "[[ 1.         -0.05227236]\n",
      " [-0.05227236  1.        ]]\n"
     ]
    }
   ],
   "source": [
    "print(np.corrcoef(a_s0, out_h))\n",
    "print(np.corrcoef(a_s0, out_e))\n",
    "print(np.corrcoef(a_s0, out_l))"
   ]
  },
  {
   "cell_type": "code",
   "execution_count": 94,
   "metadata": {},
   "outputs": [
    {
     "name": "stdout",
     "output_type": "stream",
     "text": [
      "[[ 1.         -0.05334797]\n",
      " [-0.05334797  1.        ]]\n",
      "[[1.         0.02346969]\n",
      " [0.02346969 1.        ]]\n",
      "[[1.         0.03364609]\n",
      " [0.03364609 1.        ]]\n"
     ]
    }
   ],
   "source": [
    "print(np.corrcoef(a_s1, out_h))\n",
    "print(np.corrcoef(a_s1, out_e))\n",
    "print(np.corrcoef(a_s1, out_l))"
   ]
  },
  {
   "cell_type": "code",
   "execution_count": 95,
   "metadata": {},
   "outputs": [
    {
     "name": "stdout",
     "output_type": "stream",
     "text": [
      "[[1.         0.04618718]\n",
      " [0.04618718 1.        ]]\n",
      "[[ 1.         -0.03521161]\n",
      " [-0.03521161  1.        ]]\n",
      "[[ 1.         -0.01447718]\n",
      " [-0.01447718  1.        ]]\n"
     ]
    }
   ],
   "source": [
    "print(np.corrcoef(a_s2, out_h))\n",
    "print(np.corrcoef(a_s2, out_e))\n",
    "print(np.corrcoef(a_s2, out_l))"
   ]
  },
  {
   "cell_type": "code",
   "execution_count": 96,
   "metadata": {},
   "outputs": [
    {
     "name": "stdout",
     "output_type": "stream",
     "text": [
      "[[1.         0.03636969]\n",
      " [0.03636969 1.        ]]\n",
      "[[ 1.         -0.01613741]\n",
      " [-0.01613741  1.        ]]\n",
      "[[ 1.         -0.02280316]\n",
      " [-0.02280316  1.        ]]\n"
     ]
    }
   ],
   "source": [
    "print(np.corrcoef(a_el_m, out_h))\n",
    "print(np.corrcoef(a_el_m, out_e))\n",
    "print(np.corrcoef(a_el_m, out_l))"
   ]
  },
  {
   "cell_type": "code",
   "execution_count": 97,
   "metadata": {},
   "outputs": [
    {
     "name": "stdout",
     "output_type": "stream",
     "text": [
      "[[ 1.         -0.11087162]\n",
      " [-0.11087162  1.        ]]\n",
      "[[1.         0.05904469]\n",
      " [0.05904469 1.        ]]\n",
      "[[1.         0.05982263]\n",
      " [0.05982263 1.        ]]\n"
     ]
    }
   ],
   "source": [
    "print(np.corrcoef(a_hyd_m, out_h))\n",
    "print(np.corrcoef(a_hyd_m, out_e))\n",
    "print(np.corrcoef(a_hyd_m, out_l))"
   ]
  },
  {
   "cell_type": "code",
   "execution_count": 98,
   "metadata": {},
   "outputs": [
    {
     "name": "stdout",
     "output_type": "stream",
     "text": [
      "[[ 1.         -0.14806441]\n",
      " [-0.14806441  1.        ]]\n",
      "[[1.         0.04980339]\n",
      " [0.04980339 1.        ]]\n",
      "[[1.         0.10847171]\n",
      " [0.10847171 1.        ]]\n"
     ]
    }
   ],
   "source": [
    "print(np.corrcoef(a_pol_m, out_h))\n",
    "print(np.corrcoef(a_pol_m, out_e))\n",
    "print(np.corrcoef(a_pol_m, out_l))"
   ]
  },
  {
   "cell_type": "code",
   "execution_count": 99,
   "metadata": {},
   "outputs": [
    {
     "name": "stdout",
     "output_type": "stream",
     "text": [
      "[[ 1.         -0.09196773]\n",
      " [-0.09196773  1.        ]]\n",
      "[[1.         0.06918042]\n",
      " [0.06918042 1.        ]]\n",
      "[[1.         0.02974469]\n",
      " [0.02974469 1.        ]]\n"
     ]
    }
   ],
   "source": [
    "print(np.corrcoef(a_vol_m, out_h))\n",
    "print(np.corrcoef(a_vol_m, out_e))\n",
    "print(np.corrcoef(a_vol_m, out_l))"
   ]
  },
  {
   "cell_type": "code",
   "execution_count": 100,
   "metadata": {},
   "outputs": [
    {
     "name": "stdout",
     "output_type": "stream",
     "text": [
      "[[ 1.         -0.05504439]\n",
      " [-0.05504439  1.        ]]\n",
      "[[1.         0.07837798]\n",
      " [0.07837798 1.        ]]\n",
      "[[ 1.         -0.01857478]\n",
      " [-0.01857478  1.        ]]\n"
     ]
    }
   ],
   "source": [
    "print(np.corrcoef(a_s0_m, out_h))\n",
    "print(np.corrcoef(a_s0_m, out_e))\n",
    "print(np.corrcoef(a_s0_m, out_l))"
   ]
  },
  {
   "cell_type": "code",
   "execution_count": 101,
   "metadata": {},
   "outputs": [
    {
     "name": "stdout",
     "output_type": "stream",
     "text": [
      "[[1.         0.11746915]\n",
      " [0.11746915 1.        ]]\n",
      "[[ 1.         -0.08315817]\n",
      " [-0.08315817  1.        ]]\n",
      "[[ 1.         -0.04311383]\n",
      " [-0.04311383  1.        ]]\n"
     ]
    }
   ],
   "source": [
    "print(np.corrcoef(a_s1_m, out_h))\n",
    "print(np.corrcoef(a_s1_m, out_e))\n",
    "print(np.corrcoef(a_s1_m, out_l))"
   ]
  },
  {
   "cell_type": "code",
   "execution_count": 102,
   "metadata": {},
   "outputs": [
    {
     "name": "stdout",
     "output_type": "stream",
     "text": [
      "[[ 1.         -0.16428047]\n",
      " [-0.16428047  1.        ]]\n",
      "[[ 1.         -0.00583869]\n",
      " [-0.00583869  1.        ]]\n",
      "[[1.        0.1804654]\n",
      " [0.1804654 1.       ]]\n"
     ]
    }
   ],
   "source": [
    "print(np.corrcoef(a_s2_m, out_h))\n",
    "print(np.corrcoef(a_s2_m, out_e))\n",
    "print(np.corrcoef(a_s2_m, out_l))"
   ]
  },
  {
   "cell_type": "code",
   "execution_count": 110,
   "metadata": {},
   "outputs": [],
   "source": [
    "def get_seq_num_and_pos(ind: int):\n",
    "    s = 0\n",
    "    for i, l in enumerate(seq_len_test.tolist()):\n",
    "        if s + l > ind:\n",
    "            return i, int(ind - s)\n",
    "        else:\n",
    "            s += l"
   ]
  },
  {
   "cell_type": "code",
   "execution_count": 111,
   "metadata": {},
   "outputs": [],
   "source": [
    "with open('proc_data.csv', 'w') as f:\n",
    "    for i in range(vol.shape[0]):\n",
    "        ind, pos = get_seq_num_and_pos(i)\n",
    "        f.write(f\"{ind};{pos};{el[i]};{hyd[i]};{pol[i]};{vol[i]};{s0[i]};{s1[i]};{s2[i]};{el_m[i]};{hyd_m[i]};{pol_m[i]};{vol_m[i]};{s0_m[i]};{s1_m[i]}\" + \n",
    "                f\";{s2_m[i]};{r_h[i]};{r_e[i]};{r_l[i]};{out_h[i]};{out_e[i]};{out_l[i]}\\n\")\n",
    "    "
   ]
  },
  {
   "cell_type": "code",
   "execution_count": null,
   "metadata": {},
   "outputs": [],
   "source": []
  }
 ],
 "metadata": {
  "kernelspec": {
   "display_name": "Python 3",
   "language": "python",
   "name": "python3"
  },
  "language_info": {
   "codemirror_mode": {
    "name": "ipython",
    "version": 3
   },
   "file_extension": ".py",
   "mimetype": "text/x-python",
   "name": "python",
   "nbconvert_exporter": "python",
   "pygments_lexer": "ipython3",
   "version": "3.7.8"
  }
 },
 "nbformat": 4,
 "nbformat_minor": 4
}
