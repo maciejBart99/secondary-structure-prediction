{
 "cells": [
  {
   "cell_type": "code",
   "execution_count": 1,
   "metadata": {},
   "outputs": [],
   "source": [
    "import numpy as np"
   ]
  },
  {
   "cell_type": "code",
   "execution_count": 2,
   "metadata": {},
   "outputs": [],
   "source": [
    "out = np.load('output.npy')"
   ]
  },
  {
   "cell_type": "code",
   "execution_count": 22,
   "metadata": {},
   "outputs": [],
   "source": [
    "data = np.load('data/cullpdb+profile_6133_filtered.npy')"
   ]
  },
  {
   "cell_type": "code",
   "execution_count": 23,
   "metadata": {},
   "outputs": [],
   "source": [
    "data = data[5000:,:]"
   ]
  },
  {
   "cell_type": "code",
   "execution_count": 24,
   "metadata": {},
   "outputs": [],
   "source": [
    "data = data.reshape((-1, 700, 57))"
   ]
  },
  {
   "cell_type": "code",
   "execution_count": 25,
   "metadata": {},
   "outputs": [],
   "source": [
    "data = data.transpose(0, 2, 1)"
   ]
  },
  {
   "cell_type": "code",
   "execution_count": 9,
   "metadata": {},
   "outputs": [],
   "source": [
    "from feature import feature_apply"
   ]
  },
  {
   "cell_type": "code",
   "execution_count": 52,
   "metadata": {},
   "outputs": [
    {
     "data": {
      "text/plain": [
       "(534, 44, 700)"
      ]
     },
     "execution_count": 52,
     "metadata": {},
     "output_type": "execute_result"
    }
   ],
   "source": [
    "mask = data[:, :, 30] * -1 + 1\n",
    "seq_len = mask.sum(axis=1)\n",
    "seq_len = seq_len.astype(int)\n",
    "d_s = np.append(np.arange(21), np.append(np.arange(31, 33), np.arange(35, 56)))\n",
    "d = data[:,d_s,:]\n",
    "d.shape"
   ]
  },
  {
   "cell_type": "code",
   "execution_count": 53,
   "metadata": {},
   "outputs": [],
   "source": [
    "feature_data = feature_apply(d, seq_len, d)"
   ]
  },
  {
   "cell_type": "code",
   "execution_count": 51,
   "metadata": {},
   "outputs": [
    {
     "data": {
      "text/plain": [
       "array([45.98483 , 50.116447, 53.117702, 42.579567, 44.220036, 46.86794 ,\n",
       "       51.674362, 52.541325, 46.29136 , 48.311337, 50.437256, 45.888638,\n",
       "       48.3952  , 49.503212, 48.858936, 49.839367, 49.952995, 47.11348 ,\n",
       "       50.79699 , 53.220577, 48.89095 , 45.160633, 45.38563 , 45.788494,\n",
       "       47.116047, 45.405155, 45.894917, 43.30205 , 46.369164, 46.15127 ,\n",
       "       51.370266, 49.980495, 47.62195 , 46.468494, 47.948193, 49.694344,\n",
       "       51.10966 , 46.82513 , 45.92757 , 50.07469 , 48.818413, 48.524384,\n",
       "       47.784904, 48.210083, 44.28957 , 46.721485, 53.62326 , 46.910217,\n",
       "       52.878757, 48.40966 , 48.748188, 48.530487, 47.95689 , 51.924026,\n",
       "       48.355682, 43.838276, 49.803814, 50.334312, 52.23438 , 49.284496,\n",
       "       49.17485 , 50.218937, 48.535698, 46.730217, 44.349937, 47.28315 ,\n",
       "       49.0823  , 46.40203 , 53.012722, 49.448822, 46.57115 , 50.048653,\n",
       "       50.141598, 52.36462 , 44.219036, 50.73564 , 47.270718, 49.874935,\n",
       "       45.028744, 44.47628 , 47.441177, 45.327587, 45.35395 , 50.752357,\n",
       "       52.320957, 48.77367 , 46.450954, 45.83454 , 51.6961  , 46.299046,\n",
       "       50.37982 , 54.      , 48.209045, 53.619987, 50.137413, 46.92618 ,\n",
       "       47.83942 , 50.900665, 44.12785 , 49.897686, 48.58864 , 53.693844,\n",
       "       44.48671 , 45.67803 , 49.92124 , 48.73468 , 46.891197, 50.772926,\n",
       "       48.325714, 44.734753, 45.715904, 49.2546  , 44.40326 , 45.528893,\n",
       "       45.987774, 48.93253 , 46.383263, 50.65928 , 47.28402 , 49.17632 ,\n",
       "       45.80016 , 44.385456, 45.51421 , 49.3835  , 45.82075 , 45.84825 ,\n",
       "       50.54604 , 51.30717 , 52.123066, 50.693245, 44.13097 , 46.687527,\n",
       "       45.977913, 48.385086, 50.344612, 47.694897, 45.86431 , 48.467125,\n",
       "       47.582405, 49.46918 , 46.26908 , 48.77262 , 47.419514, 48.381054,\n",
       "       46.983715, 47.04983 , 47.092316, 44.982117, 50.98201 , 47.094707,\n",
       "       50.0065  , 45.676643, 45.178036, 52.922237, 47.867626, 44.688225,\n",
       "       47.520477, 43.696133, 45.983963, 47.475014, 45.783478, 46.544468,\n",
       "       45.5831  , 46.901943, 45.617016, 50.348923, 43.85825 , 51.423187,\n",
       "       48.796356, 47.483406, 47.890408, 49.265152, 50.59696 , 47.930374,\n",
       "       52.088104, 48.04841 , 46.991077, 45.715904, 50.107555, 50.309193,\n",
       "       46.114674, 49.753136, 50.502537, 45.124893, 45.91653 , 44.918537,\n",
       "       53.54308 , 51.245464, 45.308586, 43.796783, 51.17654 , 43.997334,\n",
       "       47.248276, 47.10129 , 44.8969  , 47.40669 , 45.087814, 49.068268,\n",
       "       46.91305 , 45.76406 , 45.54853 , 50.805233, 49.306202, 46.70172 ,\n",
       "       50.0882  , 44.768307, 46.406   , 52.43919 , 50.771427, 47.409836,\n",
       "       45.645527, 46.16943 , 44.1258  , 49.812485, 46.66677 , 44.79955 ,\n",
       "       42.241203, 47.88739 , 45.168957, 49.06037 , 47.850433, 49.27184 ,\n",
       "       47.57046 , 45.625465, 47.15694 , 48.281807, 45.15235 , 51.3555  ,\n",
       "       47.483566, 45.133625, 51.69064 , 50.637516, 44.793022, 44.653576,\n",
       "       47.539047, 45.55832 , 47.441643, 44.84571 , 49.79468 , 50.595417,\n",
       "       46.06451 , 44.65062 , 46.286476, 43.793613, 46.861126, 46.299046,\n",
       "       47.34028 , 45.378193, 51.081436, 45.207005, 46.789127, 44.537407,\n",
       "       51.511684, 44.988586, 45.313324, 47.136322, 48.88828 , 45.036327,\n",
       "       47.01051 , 49.02728 , 48.062374, 50.97693 , 47.68431 , 49.90522 ,\n",
       "       51.71491 , 44.75557 , 45.946983, 50.37011 , 43.747536, 46.731388,\n",
       "       46.17159 , 50.84664 , 44.199806, 46.646328, 50.32077 , 44.684864,\n",
       "       44.568264, 46.55728 , 45.312164, 47.70709 , 47.408024, 44.905247,\n",
       "       51.706074, 50.106903, 44.91498 , 50.163105, 49.781208, 43.989357,\n",
       "       45.071644, 47.104977, 44.765507, 48.67549 , 51.76202 , 50.383537,\n",
       "       47.550076, 45.162975, 47.31335 , 48.773697, 47.0736  , 44.978756,\n",
       "       50.050343, 44.992706, 45.35777 , 50.67184 , 46.310307, 46.066418,\n",
       "       46.581696, 47.74247 , 46.609447, 48.960968, 44.55765 , 51.57431 ,\n",
       "       44.56135 , 44.86623 , 51.674015, 50.141598, 44.582623, 46.615406,\n",
       "       46.544483, 46.805813, 46.001877, 46.706127, 46.4776  , 48.052868,\n",
       "       50.587883, 49.50133 , 46.63586 , 45.464428, 49.133404, 47.100105,\n",
       "       47.069134, 46.065212, 50.56806 , 44.64871 , 42.766266, 43.505558,\n",
       "       44.523487, 46.043705, 47.3356  , 45.2519  , 48.858936, 48.954926,\n",
       "       49.9646  , 50.85044 , 47.420742, 47.793045, 46.85344 , 50.415607,\n",
       "       44.45862 , 52.769787, 45.312164, 48.497833, 46.319702, 45.920044,\n",
       "       49.25051 , 52.093636, 51.40475 , 51.382042, 50.00241 , 48.3952  ,\n",
       "       46.900368, 46.566086, 50.859097, 45.162277, 47.89817 , 44.142384,\n",
       "       44.067013, 49.666946, 44.682213, 45.573627, 50.989143, 48.103024,\n",
       "       48.27046 , 46.98374 , 45.59228 , 50.138794, 46.724583, 45.31054 ,\n",
       "       45.814396, 46.87708 , 50.077106, 45.179657, 50.196198, 47.044827,\n",
       "       48.919567, 44.582058, 48.42329 , 52.131733, 47.2377  , 47.43785 ,\n",
       "       45.863297, 45.226437, 44.426205, 46.338486, 47.991955, 46.61072 ,\n",
       "       49.65642 , 49.070885, 46.079502, 44.858288, 51.434612, 47.961437,\n",
       "       44.935738, 44.95596 , 46.43875 , 48.778893, 51.651886, 49.949684,\n",
       "       46.533455, 51.88261 , 47.12941 , 43.09149 , 44.80318 , 45.310013,\n",
       "       49.892815, 48.362583, 54.      , 49.841614, 44.03296 , 47.512283,\n",
       "       44.875675, 45.160633, 47.381542, 50.19752 , 46.174484, 47.849976,\n",
       "       43.980637, 44.335934, 49.346775, 46.464516, 43.778465, 45.122322,\n",
       "       53.68985 , 45.255623, 50.716816, 48.26408 , 45.20166 , 44.324715,\n",
       "       47.872707, 46.40978 , 46.076935, 50.377457, 46.008133, 49.887714,\n",
       "       49.50471 , 49.368584, 49.5813  , 46.20601 , 49.478474, 51.175858,\n",
       "       47.236202, 46.91467 , 44.685173, 52.78955 , 45.165325, 47.27781 ,\n",
       "       45.684994, 47.58088 , 44.291092, 44.61386 , 49.02418 , 43.965454,\n",
       "       44.121418, 46.964115, 47.89936 , 45.655815, 45.271805, 49.572964,\n",
       "       46.3952  , 45.05779 , 47.74716 , 47.855553, 49.174553, 44.475925,\n",
       "       46.058605, 48.7734  , 44.835896, 44.58411 , 48.078407, 48.205597,\n",
       "       46.69759 , 45.019066, 47.806675, 49.66745 , 46.627777, 44.535797,\n",
       "       54.      , 47.53287 , 46.3952  , 45.352448, 48.68306 , 51.04131 ,\n",
       "       48.963516, 47.272617, 53.66242 , 46.159748, 49.574112, 49.401226,\n",
       "       50.783882, 49.133244, 46.569817, 45.224148, 46.81458 , 46.350483,\n",
       "       51.70124 , 49.830265, 48.738995, 48.3952  , 47.84728 , 49.127853,\n",
       "       43.44076 , 50.229427, 46.871635, 49.197468, 46.43733 , 44.73267 ,\n",
       "       45.684994, 46.072395, 44.980343, 47.678635, 50.155052, 49.356575,\n",
       "       49.324432, 45.18452 , 45.73943 , 48.835346, 46.800896, 46.27737 ,\n",
       "       50.786   , 48.890312, 51.150764, 46.18317 , 45.944363, 47.224552],\n",
       "      dtype=float32)"
      ]
     },
     "execution_count": 51,
     "metadata": {},
     "output_type": "execute_result"
    }
   ],
   "source": [
    "seq_len"
   ]
  },
  {
   "cell_type": "code",
   "execution_count": 54,
   "metadata": {},
   "outputs": [],
   "source": [
    "seq_0 = feature_data[0]"
   ]
  },
  {
   "cell_type": "code",
   "execution_count": 55,
   "metadata": {},
   "outputs": [],
   "source": [
    "out_0 = out[0]"
   ]
  },
  {
   "cell_type": "code",
   "execution_count": 56,
   "metadata": {},
   "outputs": [],
   "source": [
    "out_0_h = out_0[:, 3:6].sum(axis=1)[:seq_len[0]]"
   ]
  },
  {
   "cell_type": "code",
   "execution_count": 57,
   "metadata": {},
   "outputs": [],
   "source": [
    "out_0_l = out_0[:, np.array([0, 6, 7])].sum(axis=1)[:seq_len[0]]"
   ]
  },
  {
   "cell_type": "code",
   "execution_count": 58,
   "metadata": {},
   "outputs": [],
   "source": [
    "out_0_e = out_0[:, 1:3].sum(axis=1)[:seq_len[0]]"
   ]
  },
  {
   "cell_type": "code",
   "execution_count": 59,
   "metadata": {},
   "outputs": [],
   "source": [
    "data_polarity = seq_0[2 ,:seq_len[0]]"
   ]
  },
  {
   "cell_type": "code",
   "execution_count": 60,
   "metadata": {},
   "outputs": [
    {
     "data": {
      "text/plain": [
       "array([2.71697036, 0.00420177, 2.06341006, 1.97969511, 1.58323485,\n",
       "       1.02506904, 1.70189075, 0.82637792, 0.00848849, 1.32340422,\n",
       "       1.41606374, 1.27223719, 1.46114625, 1.82481329, 1.92086003,\n",
       "       0.95307923, 1.58120086, 0.62497047, 1.60445221, 1.14533803,\n",
       "       1.40821853, 1.81748933, 1.52594184, 1.1811767 , 0.20062175,\n",
       "       0.89165348, 0.39863463, 1.77121846, 1.00428983, 1.5688234 ,\n",
       "       1.34587122, 0.59131454, 1.64597841, 1.62909794, 1.53845778,\n",
       "       0.10280496, 1.22826848, 0.57562809, 1.4236505 , 0.25485492,\n",
       "       0.86482903, 1.17554325, 1.38341462, 1.06019023, 0.36108708])"
      ]
     },
     "execution_count": 60,
     "metadata": {},
     "output_type": "execute_result"
    }
   ],
   "source": [
    "data_polarity"
   ]
  },
  {
   "cell_type": "code",
   "execution_count": 61,
   "metadata": {
    "scrolled": true
   },
   "outputs": [
    {
     "data": {
      "text/plain": [
       "array([[1.        , 0.21668915],\n",
       "       [0.21668915, 1.        ]])"
      ]
     },
     "execution_count": 61,
     "metadata": {},
     "output_type": "execute_result"
    }
   ],
   "source": [
    "np.corrcoef(data_polarity, out_0_h)"
   ]
  },
  {
   "cell_type": "code",
   "execution_count": 62,
   "metadata": {},
   "outputs": [
    {
     "data": {
      "text/plain": [
       "array([[1.        , 0.36373658],\n",
       "       [0.36373658, 1.        ]])"
      ]
     },
     "execution_count": 62,
     "metadata": {},
     "output_type": "execute_result"
    }
   ],
   "source": [
    "np.corrcoef(data_polarity, out_0_l)"
   ]
  },
  {
   "cell_type": "code",
   "execution_count": 63,
   "metadata": {},
   "outputs": [
    {
     "data": {
      "text/plain": [
       "array([[ 1.        , -0.36378613],\n",
       "       [-0.36378613,  1.        ]])"
      ]
     },
     "execution_count": 63,
     "metadata": {},
     "output_type": "execute_result"
    }
   ],
   "source": [
    "np.corrcoef(data_polarity, out_0_e)"
   ]
  },
  {
   "cell_type": "code",
   "execution_count": 64,
   "metadata": {},
   "outputs": [],
   "source": [
    "data_el = seq_0[0 ,:seq_len[0]]"
   ]
  },
  {
   "cell_type": "code",
   "execution_count": 65,
   "metadata": {},
   "outputs": [
    {
     "data": {
      "text/plain": [
       "array([[ 1.        , -0.00552266],\n",
       "       [-0.00552266,  1.        ]])"
      ]
     },
     "execution_count": 65,
     "metadata": {},
     "output_type": "execute_result"
    }
   ],
   "source": [
    "np.corrcoef(data_el, out_0_h)"
   ]
  },
  {
   "cell_type": "code",
   "execution_count": 66,
   "metadata": {},
   "outputs": [
    {
     "data": {
      "text/plain": [
       "array([[1.        , 0.17728886],\n",
       "       [0.17728886, 1.        ]])"
      ]
     },
     "execution_count": 66,
     "metadata": {},
     "output_type": "execute_result"
    }
   ],
   "source": [
    "np.corrcoef(data_el, out_0_l)"
   ]
  },
  {
   "cell_type": "code",
   "execution_count": 67,
   "metadata": {},
   "outputs": [
    {
     "data": {
      "text/plain": [
       "array([[ 1.        , -0.17726256],\n",
       "       [-0.17726256,  1.        ]])"
      ]
     },
     "execution_count": 67,
     "metadata": {},
     "output_type": "execute_result"
    }
   ],
   "source": [
    "np.corrcoef(data_el, out_0_e)"
   ]
  },
  {
   "cell_type": "code",
   "execution_count": 68,
   "metadata": {},
   "outputs": [],
   "source": [
    "data_hyd = seq_0[1,:seq_len[0]]"
   ]
  },
  {
   "cell_type": "code",
   "execution_count": 69,
   "metadata": {},
   "outputs": [
    {
     "data": {
      "text/plain": [
       "array([[ 1.        , -0.30376395],\n",
       "       [-0.30376395,  1.        ]])"
      ]
     },
     "execution_count": 69,
     "metadata": {},
     "output_type": "execute_result"
    }
   ],
   "source": [
    "np.corrcoef(data_hyd, out_0_h)"
   ]
  },
  {
   "cell_type": "code",
   "execution_count": 70,
   "metadata": {},
   "outputs": [
    {
     "data": {
      "text/plain": [
       "array([[ 1.       , -0.3097249],\n",
       "       [-0.3097249,  1.       ]])"
      ]
     },
     "execution_count": 70,
     "metadata": {},
     "output_type": "execute_result"
    }
   ],
   "source": [
    "np.corrcoef(data_hyd, out_0_l)"
   ]
  },
  {
   "cell_type": "code",
   "execution_count": 71,
   "metadata": {},
   "outputs": [
    {
     "data": {
      "text/plain": [
       "array([[1.        , 0.30982125],\n",
       "       [0.30982125, 1.        ]])"
      ]
     },
     "execution_count": 71,
     "metadata": {},
     "output_type": "execute_result"
    }
   ],
   "source": [
    "np.corrcoef(data_hyd, out_0_e)"
   ]
  },
  {
   "cell_type": "code",
   "execution_count": 72,
   "metadata": {},
   "outputs": [],
   "source": [
    "data_vol = seq_0[3,:seq_len[0]]"
   ]
  },
  {
   "cell_type": "code",
   "execution_count": 73,
   "metadata": {},
   "outputs": [
    {
     "data": {
      "text/plain": [
       "array([[ 1.        , -0.26277219],\n",
       "       [-0.26277219,  1.        ]])"
      ]
     },
     "execution_count": 73,
     "metadata": {},
     "output_type": "execute_result"
    }
   ],
   "source": [
    "np.corrcoef(data_vol, out_0_h)"
   ]
  },
  {
   "cell_type": "code",
   "execution_count": 76,
   "metadata": {},
   "outputs": [
    {
     "data": {
      "text/plain": [
       "array([[ 1.        , -0.47008083],\n",
       "       [-0.47008083,  1.        ]])"
      ]
     },
     "execution_count": 76,
     "metadata": {},
     "output_type": "execute_result"
    }
   ],
   "source": [
    "np.corrcoef(data_vol, out_0_l)"
   ]
  },
  {
   "cell_type": "code",
   "execution_count": 77,
   "metadata": {},
   "outputs": [
    {
     "data": {
      "text/plain": [
       "array([[1.        , 0.47013701],\n",
       "       [0.47013701, 1.        ]])"
      ]
     },
     "execution_count": 77,
     "metadata": {},
     "output_type": "execute_result"
    }
   ],
   "source": [
    "np.corrcoef(data_vol, out_0_e)"
   ]
  },
  {
   "cell_type": "code",
   "execution_count": 79,
   "metadata": {},
   "outputs": [],
   "source": [
    "import matplotlib.pyplot as plt"
   ]
  },
  {
   "cell_type": "code",
   "execution_count": 80,
   "metadata": {},
   "outputs": [],
   "source": []
  },
  {
   "cell_type": "code",
   "execution_count": 103,
   "metadata": {},
   "outputs": [
    {
     "data": {
      "text/plain": [
       "[<matplotlib.lines.Line2D at 0x1a067137bc8>]"
      ]
     },
     "execution_count": 103,
     "metadata": {},
     "output_type": "execute_result"
    },
    {
     "data": {
      "image/png": "[encoded data removed]",
      "text/plain": [
       "<Figure size 1440x756 with 1 Axes>"
      ]
     },
     "metadata": {
      "needs_background": "light"
     },
     "output_type": "display_data"
    }
   ],
   "source": [
    "pol = data_polarity.tolist()\n",
    "h = (out_0_h * 3000).tolist()\n",
    "l = (out_0_l * 3000).tolist()\n",
    "e = (out_0_e * 3000).tolist()\n",
    "fig = plt.gcf()\n",
    "fig.set_size_inches(20, 10.5)\n",
    "# plt.plot(list(range(len(pol))), pol)\n",
    "# plt.plot(list(range(len(pol))), h, color=[1,0,0])\n",
    "plt.plot(list(range(len(pol))), l, color=[1,1,0])\n",
    "# plt.plot(list(range(len(pol))), e, color=[0,1,0])"
   ]
  },
  {
   "cell_type": "code",
   "execution_count": null,
   "metadata": {},
   "outputs": [],
   "source": [
    "pol = data_polarity.tolist()\n",
    "h = (out_0_h * 3000).tolist()\n",
    "fig = plt.gcf()\n",
    "fig.set_size_inches(20, 10.5)\n",
    "plt.plot(list(range(len(pol))), pol, color=[1,0,0])\n",
    "plt.plot(list(range(len(pol))), h)"
   ]
  }
 ],
 "metadata": {
  "kernelspec": {
   "display_name": "Python 3",
   "language": "python",
   "name": "python3"
  },
  "language_info": {
   "codemirror_mode": {
    "name": "ipython",
    "version": 3
   },
   "file_extension": ".py",
   "mimetype": "text/x-python",
   "name": "python",
   "nbconvert_exporter": "python",
   "pygments_lexer": "ipython3",
   "version": "3.7.8"
  }
 },
 "nbformat": 4,
 "nbformat_minor": 4
}
