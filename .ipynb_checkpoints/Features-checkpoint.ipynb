{
 "cells": [
  {
   "cell_type": "code",
   "execution_count": 1,
   "metadata": {},
   "outputs": [],
   "source": [
    "import numpy as np\n",
    "test_data = np.load('data/test.npz')\n",
    "x_test, y_test, seq_len_test = test_data['X'], test_data['y'], test_data['seq_len']"
   ]
  },
  {
   "cell_type": "code",
   "execution_count": 59,
   "metadata": {},
   "outputs": [],
   "source": [
    "def flatten_sequence(inp, seq_len):\n",
    "    result = None\n",
    "    for i in range(inp.shape[0]):\n",
    "        if result is not None:\n",
    "            result = np.concatenate((result, inp[i, :, :int(seq_len[i])]), axis=1)\n",
    "        else:\n",
    "            result = inp[i, :, :int(seq_len[i])]\n",
    "    return result\n",
    "        "
   ]
  },
  {
   "cell_type": "code",
   "execution_count": 2,
   "metadata": {},
   "outputs": [],
   "source": [
    "from feature import feature_apply"
   ]
  },
  {
   "cell_type": "code",
   "execution_count": 154,
   "metadata": {},
   "outputs": [
    {
     "ename": "IndexError",
     "evalue": "index 21 is out of bounds for axis 1 with size 16",
     "output_type": "error",
     "traceback": [
      "\u001b[1;31m---------------------------------------------------------------------------\u001b[0m",
      "\u001b[1;31mIndexError\u001b[0m                                Traceback (most recent call last)",
      "\u001b[1;32m<ipython-input-154-e021cb4722b8>\u001b[0m in \u001b[0;36m<module>\u001b[1;34m\u001b[0m\n\u001b[1;32m----> 1\u001b[1;33m \u001b[0mx_test\u001b[0m \u001b[1;33m=\u001b[0m \u001b[0mfeature_apply\u001b[0m\u001b[1;33m(\u001b[0m\u001b[0mx_test\u001b[0m\u001b[1;33m,\u001b[0m \u001b[0mseq_len_test\u001b[0m\u001b[1;33m,\u001b[0m \u001b[0mx_test\u001b[0m\u001b[1;33m)\u001b[0m\u001b[1;33m.\u001b[0m\u001b[0mastype\u001b[0m\u001b[1;33m(\u001b[0m\u001b[1;34m'float32'\u001b[0m\u001b[1;33m)\u001b[0m\u001b[1;33m\u001b[0m\u001b[1;33m\u001b[0m\u001b[0m\n\u001b[0m",
      "\u001b[1;32m~\\PycharmProjects\\deepCNNN\\feature.py\u001b[0m in \u001b[0;36mfeature_apply\u001b[1;34m(inp, seq_len, raw_features)\u001b[0m\n\u001b[0;32m    192\u001b[0m     \u001b[0mresult\u001b[0m \u001b[1;33m=\u001b[0m \u001b[0mnp\u001b[0m\u001b[1;33m.\u001b[0m\u001b[0mzeros\u001b[0m\u001b[1;33m(\u001b[0m\u001b[1;33m(\u001b[0m\u001b[0minp\u001b[0m\u001b[1;33m.\u001b[0m\u001b[0mshape\u001b[0m\u001b[1;33m[\u001b[0m\u001b[1;36m0\u001b[0m\u001b[1;33m]\u001b[0m\u001b[1;33m,\u001b[0m \u001b[1;36m16\u001b[0m\u001b[1;33m,\u001b[0m \u001b[0minp\u001b[0m\u001b[1;33m.\u001b[0m\u001b[0mshape\u001b[0m\u001b[1;33m[\u001b[0m\u001b[1;36m2\u001b[0m\u001b[1;33m]\u001b[0m\u001b[1;33m)\u001b[0m\u001b[1;33m)\u001b[0m\u001b[1;33m\u001b[0m\u001b[1;33m\u001b[0m\u001b[0m\n\u001b[0;32m    193\u001b[0m     \u001b[1;31m# result[:, 7, :] = np.vectorize(lambda x: electric_charge[x])(inp[:, :21, :].argmax(1))\u001b[0m\u001b[1;33m\u001b[0m\u001b[1;33m\u001b[0m\u001b[1;33m\u001b[0m\u001b[0m\n\u001b[1;32m--> 194\u001b[1;33m     \u001b[1;31m# result[:, 8, :] = np.vectorize(lambda x: hydrophobicity_score[x])(inp[:, :21, :].argmax(1))\u001b[0m\u001b[1;33m\u001b[0m\u001b[1;33m\u001b[0m\u001b[1;33m\u001b[0m\u001b[0m\n\u001b[0m\u001b[0;32m    195\u001b[0m     \u001b[1;31m# result[:, 9, :] = np.vectorize(lambda x: polarity[x])(inp[:, :21, :].argmax(1))\u001b[0m\u001b[1;33m\u001b[0m\u001b[1;33m\u001b[0m\u001b[1;33m\u001b[0m\u001b[0m\n\u001b[0;32m    196\u001b[0m     \u001b[1;31m# result[:, 10, :] = np.vectorize(lambda x: volume[x])(inp[:, :21, :].argmax(1))\u001b[0m\u001b[1;33m\u001b[0m\u001b[1;33m\u001b[0m\u001b[1;33m\u001b[0m\u001b[0m\n",
      "\u001b[1;31mIndexError\u001b[0m: index 21 is out of bounds for axis 1 with size 16"
     ]
    }
   ],
   "source": [
    "x_test = feature_apply(x_test, seq_len_test, x_test).astype('float32')"
   ]
  },
  {
   "cell_type": "code",
   "execution_count": 5,
   "metadata": {},
   "outputs": [
    {
     "data": {
      "text/plain": [
       "(534, 16, 700)"
      ]
     },
     "execution_count": 5,
     "metadata": {},
     "output_type": "execute_result"
    }
   ],
   "source": [
    "x_test.shape"
   ]
  },
  {
   "cell_type": "code",
   "execution_count": 8,
   "metadata": {},
   "outputs": [],
   "source": [
    "total_x = x_test.transpose((1, 0, 2))"
   ]
  },
  {
   "cell_type": "code",
   "execution_count": 89,
   "metadata": {},
   "outputs": [
    {
     "data": {
      "text/plain": [
       "(16, 111206)"
      ]
     },
     "execution_count": 89,
     "metadata": {},
     "output_type": "execute_result"
    }
   ],
   "source": [
    "total_x.shape"
   ]
  },
  {
   "cell_type": "code",
   "execution_count": 60,
   "metadata": {},
   "outputs": [],
   "source": [
    "total_x = flatten_sequence(x_test, seq_len_test)"
   ]
  },
  {
   "cell_type": "code",
   "execution_count": 61,
   "metadata": {},
   "outputs": [
    {
     "data": {
      "text/plain": [
       "(16, 111206)"
      ]
     },
     "execution_count": 61,
     "metadata": {},
     "output_type": "execute_result"
    }
   ],
   "source": [
    "total_x.shape"
   ]
  },
  {
   "cell_type": "code",
   "execution_count": 13,
   "metadata": {},
   "outputs": [],
   "source": [
    "total_x = total_x.transpose()"
   ]
  },
  {
   "cell_type": "code",
   "execution_count": 14,
   "metadata": {},
   "outputs": [
    {
     "data": {
      "text/plain": [
       "(534, 700)"
      ]
     },
     "execution_count": 14,
     "metadata": {},
     "output_type": "execute_result"
    }
   ],
   "source": [
    "y_test.shape"
   ]
  },
  {
   "cell_type": "code",
   "execution_count": 15,
   "metadata": {},
   "outputs": [],
   "source": [
    "total_y = y_test.reshape((-1))"
   ]
  },
  {
   "cell_type": "code",
   "execution_count": 16,
   "metadata": {},
   "outputs": [
    {
     "data": {
      "text/plain": [
       "array([0., 0., 7., ..., 0., 0., 0.], dtype=float32)"
      ]
     },
     "execution_count": 16,
     "metadata": {},
     "output_type": "execute_result"
    }
   ],
   "source": [
    "total_y"
   ]
  },
  {
   "cell_type": "code",
   "execution_count": 67,
   "metadata": {},
   "outputs": [],
   "source": [
    "from model_wrapper import map_q8_to_q3\n",
    "mapper = np.vectorize(map_q8_to_q3)\n",
    "total_y = mapper(y_test).reshape((534, 1, -1))\n",
    "resp = np.concatenate((total_y == 0, total_y == 1, total_y == 2), axis=1)"
   ]
  },
  {
   "cell_type": "code",
   "execution_count": 70,
   "metadata": {},
   "outputs": [
    {
     "data": {
      "text/plain": [
       "(3, 111206)"
      ]
     },
     "execution_count": 70,
     "metadata": {},
     "output_type": "execute_result"
    }
   ],
   "source": [
    "total_y = flatten_sequence(resp, seq_len_test)\n",
    "total_y.shape"
   ]
  },
  {
   "cell_type": "code",
   "execution_count": 103,
   "metadata": {},
   "outputs": [
    {
     "name": "stdout",
     "output_type": "stream",
     "text": [
      "(3, 111206)\n"
     ]
    }
   ],
   "source": [
    "print(total_y.shape)\n",
    "r_h = total_y[0, :]\n",
    "r_e = total_y[1, :]\n",
    "r_l = total_y[2, :]"
   ]
  },
  {
   "cell_type": "code",
   "execution_count": 24,
   "metadata": {},
   "outputs": [],
   "source": [
    "result = result.transpose()"
   ]
  },
  {
   "cell_type": "code",
   "execution_count": 25,
   "metadata": {},
   "outputs": [
    {
     "data": {
      "text/plain": [
       "(373800, 3)"
      ]
     },
     "execution_count": 25,
     "metadata": {},
     "output_type": "execute_result"
    }
   ],
   "source": [
    "result.shape"
   ]
  },
  {
   "cell_type": "code",
   "execution_count": 26,
   "metadata": {},
   "outputs": [],
   "source": [
    "import matplotlib.pyplot as plt"
   ]
  },
  {
   "cell_type": "code",
   "execution_count": 90,
   "metadata": {},
   "outputs": [],
   "source": [
    "el = total_x[0, :]"
   ]
  },
  {
   "cell_type": "code",
   "execution_count": 91,
   "metadata": {},
   "outputs": [],
   "source": [
    "hyd = total_x[1, :]"
   ]
  },
  {
   "cell_type": "code",
   "execution_count": 92,
   "metadata": {},
   "outputs": [],
   "source": [
    "pol = total_x[2, :]"
   ]
  },
  {
   "cell_type": "code",
   "execution_count": 158,
   "metadata": {},
   "outputs": [],
   "source": [
    "vol = total_x[3, :]\n",
    "s0 = total_x[4, :]\n",
    "s1 = total_x[5, :]\n",
    "s2 = total_x[6, :]\n",
    "el_m = total_x[7, :]\n",
    "hyd_m = total_x[8, :]\n",
    "pol_m = total_x[9, :]\n",
    "vol_m = total_x[10, :]\n",
    "s0_m = total_x[11, :]\n",
    "s1_m = total_x[12, :]\n",
    "s2_m = total_x[13, :]"
   ]
  },
  {
   "cell_type": "code",
   "execution_count": 104,
   "metadata": {},
   "outputs": [
    {
     "data": {
      "text/plain": [
       "(111206,)"
      ]
     },
     "execution_count": 104,
     "metadata": {},
     "output_type": "execute_result"
    }
   ],
   "source": [
    "r_h.shape"
   ]
  },
  {
   "cell_type": "code",
   "execution_count": 108,
   "metadata": {},
   "outputs": [
    {
     "name": "stdout",
     "output_type": "stream",
     "text": [
      "[[1.         0.07717206]\n",
      " [0.07717206 1.        ]]\n",
      "[[ 1.        -0.1573195]\n",
      " [-0.1573195  1.       ]]\n",
      "[[1.         0.06087351]\n",
      " [0.06087351 1.        ]]\n"
     ]
    }
   ],
   "source": [
    "print(np.corrcoef(el, r_h))\n",
    "print(np.corrcoef(el, r_e))\n",
    "print(np.corrcoef(el, r_l))"
   ]
  },
  {
   "cell_type": "code",
   "execution_count": 109,
   "metadata": {},
   "outputs": [
    {
     "name": "stdout",
     "output_type": "stream",
     "text": [
      "[[1.         0.10798948]\n",
      " [0.10798948 1.        ]]\n",
      "[[1.         0.00593155]\n",
      " [0.00593155 1.        ]]\n",
      "[[ 1.         -0.11296628]\n",
      " [-0.11296628  1.        ]]\n"
     ]
    }
   ],
   "source": [
    "print(np.corrcoef(hyd, r_h))\n",
    "print(np.corrcoef(hyd, r_e))\n",
    "print(np.corrcoef(hyd, r_l))"
   ]
  },
  {
   "cell_type": "code",
   "execution_count": 110,
   "metadata": {},
   "outputs": [
    {
     "name": "stdout",
     "output_type": "stream",
     "text": [
      "[[ 1.         -0.03179397]\n",
      " [-0.03179397  1.        ]]\n",
      "[[ 1.         -0.11407019]\n",
      " [-0.11407019  1.        ]]\n",
      "[[1.         0.13170846]\n",
      " [0.13170846 1.        ]]\n"
     ]
    }
   ],
   "source": [
    "print(np.corrcoef(pol, r_h))\n",
    "print(np.corrcoef(pol, r_e))\n",
    "print(np.corrcoef(pol, r_l))"
   ]
  },
  {
   "cell_type": "code",
   "execution_count": 111,
   "metadata": {},
   "outputs": [
    {
     "name": "stdout",
     "output_type": "stream",
     "text": [
      "[[1.         0.04809609]\n",
      " [0.04809609 1.        ]]\n",
      "[[1.         0.04335127]\n",
      " [0.04335127 1.        ]]\n",
      "[[ 1.         -0.08599357]\n",
      " [-0.08599357  1.        ]]\n"
     ]
    }
   ],
   "source": [
    "print(np.corrcoef(vol, r_h))\n",
    "print(np.corrcoef(vol, r_e))\n",
    "print(np.corrcoef(vol, r_l))"
   ]
  },
  {
   "cell_type": "code",
   "execution_count": 149,
   "metadata": {},
   "outputs": [
    {
     "name": "stdout",
     "output_type": "stream",
     "text": [
      "[[1.         0.02564356]\n",
      " [0.02564356 1.        ]]\n",
      "[[ 1.         -0.02662686]\n",
      " [-0.02662686  1.        ]]\n",
      "[[ 1.         -0.00225301]\n",
      " [-0.00225301  1.        ]]\n"
     ]
    }
   ],
   "source": [
    "print(np.corrcoef(el_m, r_h))\n",
    "print(np.corrcoef(el_m, r_e))\n",
    "print(np.corrcoef(el_m, r_l))"
   ]
  },
  {
   "cell_type": "code",
   "execution_count": 150,
   "metadata": {},
   "outputs": [
    {
     "name": "stdout",
     "output_type": "stream",
     "text": [
      "[[ 1.         -0.05809331]\n",
      " [-0.05809331  1.        ]]\n",
      "[[ 1.         -0.05057774]\n",
      " [-0.05057774  1.        ]]\n",
      "[[1.         0.10230407]\n",
      " [0.10230407 1.        ]]\n"
     ]
    }
   ],
   "source": [
    "print(np.corrcoef(hyd_m, r_h))\n",
    "print(np.corrcoef(hyd_m, r_e))\n",
    "print(np.corrcoef(hyd_m, r_l))"
   ]
  },
  {
   "cell_type": "code",
   "execution_count": 151,
   "metadata": {},
   "outputs": [
    {
     "name": "stdout",
     "output_type": "stream",
     "text": [
      "[[ 1.        -0.0673135]\n",
      " [-0.0673135  1.       ]]\n",
      "[[ 1.       -0.045033]\n",
      " [-0.045033  1.      ]]\n",
      "[[1.         0.10664546]\n",
      " [0.10664546 1.        ]]\n"
     ]
    }
   ],
   "source": [
    "print(np.corrcoef(pol_m, r_h))\n",
    "print(np.corrcoef(pol_m, r_e))\n",
    "print(np.corrcoef(pol_m, r_l))"
   ]
  },
  {
   "cell_type": "code",
   "execution_count": 152,
   "metadata": {},
   "outputs": [
    {
     "name": "stdout",
     "output_type": "stream",
     "text": [
      "[[ 1.         -0.04632258]\n",
      " [-0.04632258  1.        ]]\n",
      "[[1.         0.03561576]\n",
      " [0.03561576 1.        ]]\n",
      "[[1.         0.01501094]\n",
      " [0.01501094 1.        ]]\n"
     ]
    }
   ],
   "source": [
    "print(np.corrcoef(vol_m, r_h))\n",
    "print(np.corrcoef(vol_m, r_e))\n",
    "print(np.corrcoef(vol_m, r_l))"
   ]
  },
  {
   "cell_type": "code",
   "execution_count": 153,
   "metadata": {},
   "outputs": [
    {
     "name": "stdout",
     "output_type": "stream",
     "text": [
      "[[1.         0.06828253]\n",
      " [0.06828253 1.        ]]\n",
      "[[1.         0.04204679]\n",
      " [0.04204679 1.        ]]\n",
      "[[ 1.         -0.10499516]\n",
      " [-0.10499516  1.        ]]\n"
     ]
    }
   ],
   "source": [
    "print(np.corrcoef(s0, r_h))\n",
    "print(np.corrcoef(s0, r_e))\n",
    "print(np.corrcoef(s0, r_l))"
   ]
  },
  {
   "cell_type": "code",
   "execution_count": 155,
   "metadata": {},
   "outputs": [
    {
     "name": "stdout",
     "output_type": "stream",
     "text": [
      "[[ 1.         -0.00624541]\n",
      " [-0.00624541  1.        ]]\n",
      "[[ 1.         -0.15590429]\n",
      " [-0.15590429  1.        ]]\n",
      "[[1.         0.14287906]\n",
      " [0.14287906 1.        ]]\n"
     ]
    }
   ],
   "source": [
    "print(np.corrcoef(s1, r_h))\n",
    "print(np.corrcoef(s1, r_e))\n",
    "print(np.corrcoef(s1, r_l))"
   ]
  },
  {
   "cell_type": "code",
   "execution_count": 147,
   "metadata": {},
   "outputs": [
    {
     "name": "stdout",
     "output_type": "stream",
     "text": [
      "[[1.        0.0682408]\n",
      " [0.0682408 1.       ]]\n",
      "[[ 1.         -0.13541726]\n",
      " [-0.13541726  1.        ]]\n",
      "[[1.        0.0505896]\n",
      " [0.0505896 1.       ]]\n"
     ]
    }
   ],
   "source": [
    "print(np.corrcoef(s2, r_h))\n",
    "print(np.corrcoef(s2, r_e))\n",
    "print(np.corrcoef(s2, r_l))"
   ]
  },
  {
   "cell_type": "code",
   "execution_count": 159,
   "metadata": {},
   "outputs": [
    {
     "name": "stdout",
     "output_type": "stream",
     "text": [
      "[[ 1.         -0.02218586]\n",
      " [-0.02218586  1.        ]]\n",
      "[[1.         0.07087988]\n",
      " [0.07087988 1.        ]]\n",
      "[[ 1.         -0.03998433]\n",
      " [-0.03998433  1.        ]]\n"
     ]
    }
   ],
   "source": [
    "print(np.corrcoef(s0_m, r_h))\n",
    "print(np.corrcoef(s0_m, r_e))\n",
    "print(np.corrcoef(s0_m, r_l))"
   ]
  },
  {
   "cell_type": "code",
   "execution_count": 161,
   "metadata": {},
   "outputs": [
    {
     "name": "stdout",
     "output_type": "stream",
     "text": [
      "[[1.         0.04412671]\n",
      " [0.04412671 1.        ]]\n",
      "[[ 1.         -0.05247372]\n",
      " [-0.05247372  1.        ]]\n",
      "[[1.         0.00195602]\n",
      " [0.00195602 1.        ]]\n"
     ]
    }
   ],
   "source": [
    "print(np.corrcoef(s1_m, r_h))\n",
    "print(np.corrcoef(s1_m, r_e))\n",
    "print(np.corrcoef(s1_m, r_l))"
   ]
  },
  {
   "cell_type": "code",
   "execution_count": 160,
   "metadata": {},
   "outputs": [
    {
     "name": "stdout",
     "output_type": "stream",
     "text": [
      "[[ 1.         -0.05451324]\n",
      " [-0.05451324  1.        ]]\n",
      "[[ 1.         -0.07011933]\n",
      " [-0.07011933  1.        ]]\n",
      "[[1.         0.11585911]\n",
      " [0.11585911 1.        ]]\n"
     ]
    }
   ],
   "source": [
    "print(np.corrcoef(s2_m, r_h))\n",
    "print(np.corrcoef(s2_m, r_e))\n",
    "print(np.corrcoef(s2_m, r_l))"
   ]
  },
  {
   "cell_type": "code",
   "execution_count": null,
   "metadata": {},
   "outputs": [],
   "source": []
  },
  {
   "cell_type": "code",
   "execution_count": null,
   "metadata": {},
   "outputs": [],
   "source": []
  },
  {
   "cell_type": "code",
   "execution_count": 136,
   "metadata": {},
   "outputs": [],
   "source": [
    "out = np.load('output.npy')"
   ]
  },
  {
   "cell_type": "code",
   "execution_count": 137,
   "metadata": {},
   "outputs": [],
   "source": [
    "out = out.transpose(0, 2, 1)"
   ]
  },
  {
   "cell_type": "code",
   "execution_count": 138,
   "metadata": {},
   "outputs": [],
   "source": [
    "predicted = flatten_sequence(out, seq_len_test)"
   ]
  },
  {
   "cell_type": "code",
   "execution_count": 139,
   "metadata": {},
   "outputs": [
    {
     "data": {
      "text/plain": [
       "(8, 111206)"
      ]
     },
     "execution_count": 139,
     "metadata": {},
     "output_type": "execute_result"
    }
   ],
   "source": [
    "predicted.shape"
   ]
  },
  {
   "cell_type": "code",
   "execution_count": 140,
   "metadata": {},
   "outputs": [
    {
     "data": {
      "text/plain": [
       "(111206,)"
      ]
     },
     "execution_count": 140,
     "metadata": {},
     "output_type": "execute_result"
    }
   ],
   "source": [
    "out_h = predicted[3:6, :].sum(axis=0)\n",
    "out_l = predicted[np.array([0, 6, 7]), :].sum(axis=0)\n",
    "out_e = predicted[1:3, :].sum(axis=0)\n",
    "out_h.shape"
   ]
  },
  {
   "cell_type": "code",
   "execution_count": 141,
   "metadata": {},
   "outputs": [
    {
     "name": "stdout",
     "output_type": "stream",
     "text": [
      "[[1.         0.06772464]\n",
      " [0.06772464 1.        ]]\n",
      "[[ 1.         -0.15148401]\n",
      " [-0.15148401  1.        ]]\n",
      "[[1.         0.07701881]\n",
      " [0.07701881 1.        ]]\n"
     ]
    }
   ],
   "source": [
    "print(np.corrcoef(el, out_h))\n",
    "print(np.corrcoef(el, out_e))\n",
    "print(np.corrcoef(el, out_l))"
   ]
  },
  {
   "cell_type": "code",
   "execution_count": 142,
   "metadata": {},
   "outputs": [
    {
     "name": "stdout",
     "output_type": "stream",
     "text": [
      "[[1.         0.09918638]\n",
      " [0.09918638 1.        ]]\n",
      "[[1.         0.02774779]\n",
      " [0.02774779 1.        ]]\n",
      "[[ 1.         -0.13279123]\n",
      " [-0.13279123  1.        ]]\n"
     ]
    }
   ],
   "source": [
    "print(np.corrcoef(hyd, out_h))\n",
    "print(np.corrcoef(hyd, out_e))\n",
    "print(np.corrcoef(hyd, out_l))"
   ]
  },
  {
   "cell_type": "code",
   "execution_count": 143,
   "metadata": {},
   "outputs": [
    {
     "name": "stdout",
     "output_type": "stream",
     "text": [
      "[[ 1.        -0.0436218]\n",
      " [-0.0436218  1.       ]]\n",
      "[[ 1.         -0.09570254]\n",
      " [-0.09570254  1.        ]]\n",
      "[[1.         0.14055717]\n",
      " [0.14055717 1.        ]]\n"
     ]
    }
   ],
   "source": [
    "print(np.corrcoef(pol, out_h))\n",
    "print(np.corrcoef(pol, out_e))\n",
    "print(np.corrcoef(pol, out_l))"
   ]
  },
  {
   "cell_type": "code",
   "execution_count": 144,
   "metadata": {},
   "outputs": [
    {
     "name": "stdout",
     "output_type": "stream",
     "text": [
      "[[1.         0.03754875]\n",
      " [0.03754875 1.        ]]\n",
      "[[1.         0.07712769]\n",
      " [0.07712769 1.        ]]\n",
      "[[ 1.        -0.1158221]\n",
      " [-0.1158221  1.       ]]\n"
     ]
    }
   ],
   "source": [
    "print(np.corrcoef(vol, out_h))\n",
    "print(np.corrcoef(vol, out_e))\n",
    "print(np.corrcoef(vol, out_l))"
   ]
  },
  {
   "cell_type": "code",
   "execution_count": 163,
   "metadata": {},
   "outputs": [
    {
     "name": "stdout",
     "output_type": "stream",
     "text": [
      "[[1.         0.02098608]\n",
      " [0.02098608 1.        ]]\n",
      "[[ 1.         -0.02659987]\n",
      " [-0.02659987  1.        ]]\n",
      "[[1.         0.00385225]\n",
      " [0.00385225 1.        ]]\n"
     ]
    }
   ],
   "source": [
    "print(np.corrcoef(el_m, out_h))\n",
    "print(np.corrcoef(el_m, out_e))\n",
    "print(np.corrcoef(el_m, out_l)) "
   ]
  },
  {
   "cell_type": "code",
   "execution_count": 164,
   "metadata": {},
   "outputs": [
    {
     "name": "stdout",
     "output_type": "stream",
     "text": [
      "[[ 1.         -0.06157973]\n",
      " [-0.06157973  1.        ]]\n",
      "[[ 1.        -0.0477841]\n",
      " [-0.0477841  1.       ]]\n",
      "[[1.         0.11250867]\n",
      " [0.11250867 1.        ]]\n"
     ]
    }
   ],
   "source": [
    "print(np.corrcoef(hyd_m, out_h))\n",
    "print(np.corrcoef(hyd_m, out_e))\n",
    "print(np.corrcoef(hyd_m, out_l))"
   ]
  },
  {
   "cell_type": "code",
   "execution_count": 165,
   "metadata": {},
   "outputs": [
    {
     "name": "stdout",
     "output_type": "stream",
     "text": [
      "[[ 1.         -0.07231094]\n",
      " [-0.07231094  1.        ]]\n",
      "[[ 1.         -0.05234212]\n",
      " [-0.05234212  1.        ]]\n",
      "[[1.         0.12840656]\n",
      " [0.12840656 1.        ]]\n"
     ]
    }
   ],
   "source": [
    "print(np.corrcoef(pol_m, out_h))\n",
    "print(np.corrcoef(pol_m, out_e))\n",
    "print(np.corrcoef(pol_m, out_l))"
   ]
  },
  {
   "cell_type": "code",
   "execution_count": 166,
   "metadata": {},
   "outputs": [
    {
     "name": "stdout",
     "output_type": "stream",
     "text": [
      "[[ 1.         -0.04709585]\n",
      " [-0.04709585  1.        ]]\n",
      "[[1.        0.0352069]\n",
      " [0.0352069 1.       ]]\n",
      "[[1.         0.01544823]\n",
      " [0.01544823 1.        ]]\n"
     ]
    }
   ],
   "source": [
    "print(np.corrcoef(vol_m, out_h))\n",
    "print(np.corrcoef(vol_m, out_e))\n",
    "print(np.corrcoef(vol_m, out_l))"
   ]
  },
  {
   "cell_type": "code",
   "execution_count": 167,
   "metadata": {},
   "outputs": [
    {
     "name": "stdout",
     "output_type": "stream",
     "text": [
      "[[1.         0.05518362]\n",
      " [0.05518362 1.        ]]\n",
      "[[1.         0.07243109]\n",
      " [0.07243109 1.        ]]\n",
      "[[ 1.         -0.12995663]\n",
      " [-0.12995663  1.        ]]\n"
     ]
    }
   ],
   "source": [
    "print(np.corrcoef(s0, out_h))\n",
    "print(np.corrcoef(s0, out_e))\n",
    "print(np.corrcoef(s0, out_l))"
   ]
  },
  {
   "cell_type": "code",
   "execution_count": 168,
   "metadata": {},
   "outputs": [
    {
     "name": "stdout",
     "output_type": "stream",
     "text": [
      "[[ 1.         -0.02738299]\n",
      " [-0.02738299  1.        ]]\n",
      "[[ 1.         -0.13861717]\n",
      " [-0.13861717  1.        ]]\n",
      "[[1.         0.16551072]\n",
      " [0.16551072 1.        ]]\n"
     ]
    }
   ],
   "source": [
    "print(np.corrcoef(s1, out_h))\n",
    "print(np.corrcoef(s1, out_e))\n",
    "print(np.corrcoef(s1, out_l))"
   ]
  },
  {
   "cell_type": "code",
   "execution_count": 169,
   "metadata": {},
   "outputs": [
    {
     "name": "stdout",
     "output_type": "stream",
     "text": [
      "[[1.         0.05480047]\n",
      " [0.05480047 1.        ]]\n",
      "[[ 1.         -0.11645305]\n",
      " [-0.11645305  1.        ]]\n",
      "[[1.         0.05629683]\n",
      " [0.05629683 1.        ]]\n"
     ]
    }
   ],
   "source": [
    "print(np.corrcoef(s2, out_h))\n",
    "print(np.corrcoef(s2, out_e))\n",
    "print(np.corrcoef(s2, out_l))"
   ]
  },
  {
   "cell_type": "code",
   "execution_count": 170,
   "metadata": {},
   "outputs": [
    {
     "name": "stdout",
     "output_type": "stream",
     "text": [
      "[[ 1.         -0.01800975]\n",
      " [-0.01800975  1.        ]]\n",
      "[[1.         0.07822604]\n",
      " [0.07822604 1.        ]]\n",
      "[[ 1.        -0.0578135]\n",
      " [-0.0578135  1.       ]]\n"
     ]
    }
   ],
   "source": [
    "print(np.corrcoef(s0_m, out_h))\n",
    "print(np.corrcoef(s0_m, out_e))\n",
    "print(np.corrcoef(s0_m, out_l))"
   ]
  },
  {
   "cell_type": "code",
   "execution_count": 171,
   "metadata": {},
   "outputs": [
    {
     "name": "stdout",
     "output_type": "stream",
     "text": [
      "[[1.         0.04417489]\n",
      " [0.04417489 1.        ]]\n",
      "[[ 1.         -0.05135951]\n",
      " [-0.05135951  1.        ]]\n",
      "[[1.         0.00355116]\n",
      " [0.00355116 1.        ]]\n"
     ]
    }
   ],
   "source": [
    "print(np.corrcoef(s1_m, out_h))\n",
    "print(np.corrcoef(s1_m, out_e))\n",
    "print(np.corrcoef(s1_m, out_l))"
   ]
  },
  {
   "cell_type": "code",
   "execution_count": 172,
   "metadata": {},
   "outputs": [
    {
     "name": "stdout",
     "output_type": "stream",
     "text": [
      "[[ 1.         -0.06731082]\n",
      " [-0.06731082  1.        ]]\n",
      "[[ 1.         -0.09547291]\n",
      " [-0.09547291  1.        ]]\n",
      "[[1.         0.16552571]\n",
      " [0.16552571 1.        ]]\n"
     ]
    }
   ],
   "source": [
    "print(np.corrcoef(s2_m, out_h))\n",
    "print(np.corrcoef(s2_m, out_e))\n",
    "print(np.corrcoef(s2_m, out_l))"
   ]
  },
  {
   "cell_type": "code",
   "execution_count": 194,
   "metadata": {},
   "outputs": [],
   "source": [
    "def aggregate_from_surrouding(inp, sur_size=8):\n",
    "    res = np.zeros(inp.shape)\n",
    "    for i in range(inp.shape[0]):\n",
    "        for j in range(inp.shape[1]):\n",
    "            beg = max(j - sur_size, 0)\n",
    "            end = min(j + sur_size, inp.shape[1] - 1)\n",
    "            res[i, j] = np.absolute(inp[i, beg:end]).mean()\n",
    "    return res\n",
    "        "
   ]
  },
  {
   "cell_type": "code",
   "execution_count": 195,
   "metadata": {},
   "outputs": [],
   "source": [
    "aggregated_x = aggregate_from_surrouding(total_x)"
   ]
  },
  {
   "cell_type": "code",
   "execution_count": 196,
   "metadata": {},
   "outputs": [
    {
     "data": {
      "text/plain": [
       "(16, 111206)"
      ]
     },
     "execution_count": 196,
     "metadata": {},
     "output_type": "execute_result"
    }
   ],
   "source": [
    "aggregated_x.shape"
   ]
  },
  {
   "cell_type": "code",
   "execution_count": 197,
   "metadata": {},
   "outputs": [],
   "source": [
    "a_el = aggregated_x[0, :]\n",
    "a_hyd = aggregated_x[1, :]\n",
    "a_pol = aggregated_x[2, :]\n",
    "a_vol = aggregated_x[3, :]\n",
    "a_s0 = aggregated_x[4, :]\n",
    "a_s1 = aggregated_x[5, :]\n",
    "a_s2 = aggregated_x[6, :]\n",
    "a_el_m = aggregated_x[7, :]\n",
    "a_hyd_m = aggregated_x[8, :]\n",
    "a_pol_m = aggregated_x[9, :]\n",
    "a_vol_m = aggregated_x[10, :]\n",
    "a_s0_m = aggregated_x[11, :]\n",
    "a_s1_m = aggregated_x[12, :]\n",
    "a_s2_m = aggregated_x[13, :]\n"
   ]
  },
  {
   "cell_type": "code",
   "execution_count": 198,
   "metadata": {},
   "outputs": [
    {
     "name": "stdout",
     "output_type": "stream",
     "text": [
      "[[1.         0.08165792]\n",
      " [0.08165792 1.        ]]\n",
      "[[ 1.         -0.06980212]\n",
      " [-0.06980212  1.        ]]\n",
      "[[ 1.         -0.01816799]\n",
      " [-0.01816799  1.        ]]\n"
     ]
    }
   ],
   "source": [
    "print(np.corrcoef(a_el, out_h))\n",
    "print(np.corrcoef(a_el, out_e))\n",
    "print(np.corrcoef(a_el, out_l))"
   ]
  },
  {
   "cell_type": "code",
   "execution_count": 199,
   "metadata": {},
   "outputs": [
    {
     "name": "stdout",
     "output_type": "stream",
     "text": [
      "[[1.         0.06470845]\n",
      " [0.06470845 1.        ]]\n",
      "[[ 1.         -0.01625748]\n",
      " [-0.01625748  1.        ]]\n",
      "[[ 1.         -0.05282474]\n",
      " [-0.05282474  1.        ]]\n"
     ]
    }
   ],
   "source": [
    "print(np.corrcoef(a_hyd, out_h))\n",
    "print(np.corrcoef(a_hyd, out_e))\n",
    "print(np.corrcoef(a_hyd, out_l))"
   ]
  },
  {
   "cell_type": "code",
   "execution_count": 200,
   "metadata": {},
   "outputs": [
    {
     "name": "stdout",
     "output_type": "stream",
     "text": [
      "[[ 1.         -0.06195029]\n",
      " [-0.06195029  1.        ]]\n",
      "[[1.         0.06577105]\n",
      " [0.06577105 1.        ]]\n",
      "[[1.         0.00117415]\n",
      " [0.00117415 1.        ]]\n"
     ]
    }
   ],
   "source": [
    "print(np.corrcoef(a_pol, out_h))\n",
    "print(np.corrcoef(a_pol, out_e))\n",
    "print(np.corrcoef(a_pol, out_l))"
   ]
  },
  {
   "cell_type": "code",
   "execution_count": 201,
   "metadata": {},
   "outputs": [
    {
     "name": "stdout",
     "output_type": "stream",
     "text": [
      "[[1.        0.0070233]\n",
      " [0.0070233 1.       ]]\n",
      "[[1.         0.02453417]\n",
      " [0.02453417 1.        ]]\n",
      "[[ 1.         -0.03160918]\n",
      " [-0.03160918  1.        ]]\n"
     ]
    }
   ],
   "source": [
    "print(np.corrcoef(a_s0, out_h))\n",
    "print(np.corrcoef(a_s0, out_e))\n",
    "print(np.corrcoef(a_s0, out_l))"
   ]
  },
  {
   "cell_type": "code",
   "execution_count": 202,
   "metadata": {},
   "outputs": [
    {
     "name": "stdout",
     "output_type": "stream",
     "text": [
      "[[ 1.         -0.05004741]\n",
      " [-0.05004741  1.        ]]\n",
      "[[1.         0.02314657]\n",
      " [0.02314657 1.        ]]\n",
      "[[1.        0.0304537]\n",
      " [0.0304537 1.       ]]\n"
     ]
    }
   ],
   "source": [
    "print(np.corrcoef(a_s1, out_h))\n",
    "print(np.corrcoef(a_s1, out_e))\n",
    "print(np.corrcoef(a_s1, out_l))"
   ]
  },
  {
   "cell_type": "code",
   "execution_count": 203,
   "metadata": {},
   "outputs": [
    {
     "name": "stdout",
     "output_type": "stream",
     "text": [
      "[[1.         0.03482512]\n",
      " [0.03482512 1.        ]]\n",
      "[[ 1.         -0.02332461]\n",
      " [-0.02332461  1.        ]]\n",
      "[[ 1.         -0.01408885]\n",
      " [-0.01408885  1.        ]]\n"
     ]
    }
   ],
   "source": [
    "print(np.corrcoef(a_s2, out_h))\n",
    "print(np.corrcoef(a_s2, out_e))\n",
    "print(np.corrcoef(a_s2, out_l))"
   ]
  },
  {
   "cell_type": "code",
   "execution_count": 204,
   "metadata": {},
   "outputs": [
    {
     "name": "stdout",
     "output_type": "stream",
     "text": [
      "[[1.         0.03636969]\n",
      " [0.03636969 1.        ]]\n",
      "[[ 1.         -0.01613741]\n",
      " [-0.01613741  1.        ]]\n",
      "[[ 1.         -0.02280316]\n",
      " [-0.02280316  1.        ]]\n"
     ]
    }
   ],
   "source": [
    "print(np.corrcoef(a_el_m, out_h))\n",
    "print(np.corrcoef(a_el_m, out_e))\n",
    "print(np.corrcoef(a_el_m, out_l))"
   ]
  },
  {
   "cell_type": "code",
   "execution_count": 205,
   "metadata": {},
   "outputs": [
    {
     "name": "stdout",
     "output_type": "stream",
     "text": [
      "[[ 1.         -0.11087161]\n",
      " [-0.11087161  1.        ]]\n",
      "[[1.         0.05904468]\n",
      " [0.05904468 1.        ]]\n",
      "[[1.         0.05982263]\n",
      " [0.05982263 1.        ]]\n"
     ]
    }
   ],
   "source": [
    "print(np.corrcoef(a_hyd_m, out_h))\n",
    "print(np.corrcoef(a_hyd_m, out_e))\n",
    "print(np.corrcoef(a_hyd_m, out_l))"
   ]
  },
  {
   "cell_type": "code",
   "execution_count": 206,
   "metadata": {},
   "outputs": [
    {
     "name": "stdout",
     "output_type": "stream",
     "text": [
      "[[ 1.         -0.14806441]\n",
      " [-0.14806441  1.        ]]\n",
      "[[1.         0.04980339]\n",
      " [0.04980339 1.        ]]\n",
      "[[1.         0.10847171]\n",
      " [0.10847171 1.        ]]\n"
     ]
    }
   ],
   "source": [
    "print(np.corrcoef(a_pol_m, out_h))\n",
    "print(np.corrcoef(a_pol_m, out_e))\n",
    "print(np.corrcoef(a_pol_m, out_l))"
   ]
  },
  {
   "cell_type": "code",
   "execution_count": 207,
   "metadata": {},
   "outputs": [
    {
     "name": "stdout",
     "output_type": "stream",
     "text": [
      "[[ 1.         -0.09196773]\n",
      " [-0.09196773  1.        ]]\n",
      "[[1.         0.06918041]\n",
      " [0.06918041 1.        ]]\n",
      "[[1.         0.02974469]\n",
      " [0.02974469 1.        ]]\n"
     ]
    }
   ],
   "source": [
    "print(np.corrcoef(a_vol_m, out_h))\n",
    "print(np.corrcoef(a_vol_m, out_e))\n",
    "print(np.corrcoef(a_vol_m, out_l))"
   ]
  },
  {
   "cell_type": "code",
   "execution_count": 208,
   "metadata": {},
   "outputs": [
    {
     "name": "stdout",
     "output_type": "stream",
     "text": [
      "[[ 1.         -0.05504436]\n",
      " [-0.05504436  1.        ]]\n",
      "[[1.         0.07837796]\n",
      " [0.07837796 1.        ]]\n",
      "[[ 1.         -0.01857479]\n",
      " [-0.01857479  1.        ]]\n"
     ]
    }
   ],
   "source": [
    "print(np.corrcoef(a_s0_m, out_h))\n",
    "print(np.corrcoef(a_s0_m, out_e))\n",
    "print(np.corrcoef(a_s0_m, out_l))"
   ]
  },
  {
   "cell_type": "code",
   "execution_count": 209,
   "metadata": {},
   "outputs": [
    {
     "name": "stdout",
     "output_type": "stream",
     "text": [
      "[[1.         0.11746915]\n",
      " [0.11746915 1.        ]]\n",
      "[[ 1.         -0.08315817]\n",
      " [-0.08315817  1.        ]]\n",
      "[[ 1.         -0.04311383]\n",
      " [-0.04311383  1.        ]]\n"
     ]
    }
   ],
   "source": [
    "print(np.corrcoef(a_s1_m, out_h))\n",
    "print(np.corrcoef(a_s1_m, out_e))\n",
    "print(np.corrcoef(a_s1_m, out_l))"
   ]
  },
  {
   "cell_type": "code",
   "execution_count": 210,
   "metadata": {},
   "outputs": [
    {
     "name": "stdout",
     "output_type": "stream",
     "text": [
      "[[ 1.         -0.16428046]\n",
      " [-0.16428046  1.        ]]\n",
      "[[ 1.        -0.0058387]\n",
      " [-0.0058387  1.       ]]\n",
      "[[1.         0.18046539]\n",
      " [0.18046539 1.        ]]\n"
     ]
    }
   ],
   "source": [
    "print(np.corrcoef(a_s2_m, out_h))\n",
    "print(np.corrcoef(a_s2_m, out_e))\n",
    "print(np.corrcoef(a_s2_m, out_l))"
   ]
  },
  {
   "cell_type": "code",
   "execution_count": 1,
   "metadata": {},
   "outputs": [
    {
     "ename": "FileNotFoundError",
     "evalue": "[Errno 2] No such file or directory: 'proc_data.csv'",
     "output_type": "error",
     "traceback": [
      "\u001b[1;31m---------------------------------------------------------------------------\u001b[0m",
      "\u001b[1;31mFileNotFoundError\u001b[0m                         Traceback (most recent call last)",
      "\u001b[1;32m<ipython-input-1-38d0d80ae84b>\u001b[0m in \u001b[0;36m<module>\u001b[1;34m\u001b[0m\n\u001b[1;32m----> 1\u001b[1;33m \u001b[1;32mwith\u001b[0m \u001b[0mopen\u001b[0m\u001b[1;33m(\u001b[0m\u001b[1;34m'proc_data.csv'\u001b[0m\u001b[1;33m)\u001b[0m \u001b[1;32mas\u001b[0m \u001b[0mf\u001b[0m\u001b[1;33m:\u001b[0m\u001b[1;33m\u001b[0m\u001b[1;33m\u001b[0m\u001b[0m\n\u001b[0m\u001b[0;32m      2\u001b[0m     \u001b[1;32mfor\u001b[0m \u001b[0mi\u001b[0m \u001b[1;32min\u001b[0m \u001b[0mrange\u001b[0m\u001b[1;33m(\u001b[0m\u001b[0mvol\u001b[0m\u001b[1;33m.\u001b[0m\u001b[0mshape\u001b[0m\u001b[1;33m[\u001b[0m\u001b[1;36m0\u001b[0m\u001b[1;33m]\u001b[0m\u001b[1;33m)\u001b[0m\u001b[1;33m:\u001b[0m\u001b[1;33m\u001b[0m\u001b[1;33m\u001b[0m\u001b[0m\n\u001b[0;32m      3\u001b[0m         f.write(f\"{el[i]};{hyd[i]};{pol[i]};{vol[i]};{s0[i]};{s1[i]};{s2[i]};{el_m[i]};{hyd_m[i]};{pol_m[i]};{vol_m[i]};{s0_m[i]};{s1_m[i]}\" + \n\u001b[0;32m      4\u001b[0m                 f\";{s2_m[i]};{r_h[i]};{r_e[i]};{r_l[i]};{out_h[i]};{out_e[i]};{out_l[i]}\\n\")\n\u001b[0;32m      5\u001b[0m \u001b[1;33m\u001b[0m\u001b[0m\n",
      "\u001b[1;31mFileNotFoundError\u001b[0m: [Errno 2] No such file or directory: 'proc_data.csv'"
     ]
    }
   ],
   "source": [
    "with open('proc_data.csv', 'w') as f:\n",
    "    for i in range(vol.shape[0]):\n",
    "        f.write(f\"{el[i]};{hyd[i]};{pol[i]};{vol[i]};{s0[i]};{s1[i]};{s2[i]};{el_m[i]};{hyd_m[i]};{pol_m[i]};{vol_m[i]};{s0_m[i]};{s1_m[i]}\" + \n",
    "                f\";{s2_m[i]};{r_h[i]};{r_e[i]};{r_l[i]};{out_h[i]};{out_e[i]};{out_l[i]}\\n\")\n",
    "    "
   ]
  },
  {
   "cell_type": "code",
   "execution_count": null,
   "metadata": {},
   "outputs": [],
   "source": []
  }
 ],
 "metadata": {
  "kernelspec": {
   "display_name": "Python 3",
   "language": "python",
   "name": "python3"
  },
  "language_info": {
   "codemirror_mode": {
    "name": "ipython",
    "version": 3
   },
   "file_extension": ".py",
   "mimetype": "text/x-python",
   "name": "python",
   "nbconvert_exporter": "python",
   "pygments_lexer": "ipython3",
   "version": "3.7.8"
  }
 },
 "nbformat": 4,
 "nbformat_minor": 4
}
